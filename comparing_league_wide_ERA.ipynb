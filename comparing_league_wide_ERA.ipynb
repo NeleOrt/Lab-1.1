{
 "cells": [
  {
   "cell_type": "code",
   "execution_count": 96,
   "id": "3b95be5c-b775-4b63-8743-d8e469fb1e4f",
   "metadata": {},
   "outputs": [],
   "source": [
    "import polars as pl"
   ]
  },
  {
   "cell_type": "code",
   "execution_count": 97,
   "id": "2974f263-853b-45b6-9192-695806f45517",
   "metadata": {},
   "outputs": [
    {
     "data": {
      "text/html": [
       "<div><style>\n",
       ".dataframe > thead > tr,\n",
       ".dataframe > tbody > tr {\n",
       "  text-align: right;\n",
       "  white-space: pre-wrap;\n",
       "}\n",
       "</style>\n",
       "<small>shape: (5, 30)</small><table border=\"1\" class=\"dataframe\"><thead><tr><th>playerID</th><th>yearID</th><th>stint</th><th>teamID</th><th>lgID</th><th>W</th><th>L</th><th>G</th><th>GS</th><th>CG</th><th>SHO</th><th>SV</th><th>IPouts</th><th>H</th><th>ER</th><th>HR</th><th>BB</th><th>SO</th><th>BAOpp</th><th>ERA</th><th>IBB</th><th>WP</th><th>HBP</th><th>BK</th><th>BFP</th><th>GF</th><th>R</th><th>SH</th><th>SF</th><th>GIDP</th></tr><tr><td>str</td><td>i64</td><td>i64</td><td>str</td><td>str</td><td>i64</td><td>i64</td><td>i64</td><td>i64</td><td>i64</td><td>i64</td><td>i64</td><td>i64</td><td>i64</td><td>i64</td><td>i64</td><td>i64</td><td>i64</td><td>f64</td><td>f64</td><td>i64</td><td>i64</td><td>i64</td><td>i64</td><td>i64</td><td>i64</td><td>i64</td><td>i64</td><td>i64</td><td>i64</td></tr></thead><tbody><tr><td>&quot;aardsda01&quot;</td><td>2004</td><td>1</td><td>&quot;SFN&quot;</td><td>&quot;NL&quot;</td><td>1</td><td>0</td><td>11</td><td>0</td><td>0</td><td>0</td><td>0</td><td>32</td><td>20</td><td>8</td><td>1</td><td>10</td><td>5</td><td>0.417</td><td>6.75</td><td>0</td><td>0</td><td>2</td><td>0</td><td>61</td><td>5</td><td>8</td><td>0</td><td>1</td><td>1</td></tr><tr><td>&quot;aardsda01&quot;</td><td>2006</td><td>1</td><td>&quot;CHN&quot;</td><td>&quot;NL&quot;</td><td>3</td><td>0</td><td>45</td><td>0</td><td>0</td><td>0</td><td>0</td><td>159</td><td>41</td><td>24</td><td>9</td><td>28</td><td>49</td><td>0.214</td><td>4.08</td><td>0</td><td>1</td><td>1</td><td>0</td><td>225</td><td>9</td><td>25</td><td>1</td><td>3</td><td>2</td></tr><tr><td>&quot;aardsda01&quot;</td><td>2007</td><td>1</td><td>&quot;CHA&quot;</td><td>&quot;AL&quot;</td><td>2</td><td>1</td><td>25</td><td>0</td><td>0</td><td>0</td><td>0</td><td>97</td><td>39</td><td>23</td><td>4</td><td>17</td><td>36</td><td>0.3</td><td>6.4</td><td>3</td><td>2</td><td>1</td><td>0</td><td>151</td><td>7</td><td>24</td><td>2</td><td>1</td><td>1</td></tr><tr><td>&quot;aardsda01&quot;</td><td>2008</td><td>1</td><td>&quot;BOS&quot;</td><td>&quot;AL&quot;</td><td>4</td><td>2</td><td>47</td><td>0</td><td>0</td><td>0</td><td>0</td><td>146</td><td>49</td><td>30</td><td>4</td><td>35</td><td>49</td><td>0.268</td><td>5.55</td><td>2</td><td>3</td><td>5</td><td>0</td><td>228</td><td>7</td><td>32</td><td>3</td><td>2</td><td>4</td></tr><tr><td>&quot;aardsda01&quot;</td><td>2009</td><td>1</td><td>&quot;SEA&quot;</td><td>&quot;AL&quot;</td><td>3</td><td>6</td><td>73</td><td>0</td><td>0</td><td>0</td><td>38</td><td>214</td><td>49</td><td>20</td><td>4</td><td>34</td><td>80</td><td>0.19</td><td>2.52</td><td>3</td><td>2</td><td>0</td><td>0</td><td>296</td><td>53</td><td>23</td><td>2</td><td>1</td><td>2</td></tr></tbody></table></div>"
      ],
      "text/plain": [
       "shape: (5, 30)\n",
       "┌───────────┬────────┬───────┬────────┬───┬─────┬─────┬─────┬──────┐\n",
       "│ playerID  ┆ yearID ┆ stint ┆ teamID ┆ … ┆ R   ┆ SH  ┆ SF  ┆ GIDP │\n",
       "│ ---       ┆ ---    ┆ ---   ┆ ---    ┆   ┆ --- ┆ --- ┆ --- ┆ ---  │\n",
       "│ str       ┆ i64    ┆ i64   ┆ str    ┆   ┆ i64 ┆ i64 ┆ i64 ┆ i64  │\n",
       "╞═══════════╪════════╪═══════╪════════╪═══╪═════╪═════╪═════╪══════╡\n",
       "│ aardsda01 ┆ 2004   ┆ 1     ┆ SFN    ┆ … ┆ 8   ┆ 0   ┆ 1   ┆ 1    │\n",
       "│ aardsda01 ┆ 2006   ┆ 1     ┆ CHN    ┆ … ┆ 25  ┆ 1   ┆ 3   ┆ 2    │\n",
       "│ aardsda01 ┆ 2007   ┆ 1     ┆ CHA    ┆ … ┆ 24  ┆ 2   ┆ 1   ┆ 1    │\n",
       "│ aardsda01 ┆ 2008   ┆ 1     ┆ BOS    ┆ … ┆ 32  ┆ 3   ┆ 2   ┆ 4    │\n",
       "│ aardsda01 ┆ 2009   ┆ 1     ┆ SEA    ┆ … ┆ 23  ┆ 2   ┆ 1   ┆ 2    │\n",
       "└───────────┴────────┴───────┴────────┴───┴─────┴─────┴─────┴──────┘"
      ]
     },
     "execution_count": 97,
     "metadata": {},
     "output_type": "execute_result"
    }
   ],
   "source": [
    "pitching = pl.read_csv('./Data/lahman_1871-2023_csv/Pitching.csv') \n",
    "pitching.head()"
   ]
  },
  {
   "cell_type": "code",
   "execution_count": 98,
   "id": "ca71cf14-b3f0-4d91-8198-636e55f01019",
   "metadata": {},
   "outputs": [
    {
     "data": {
      "text/html": [
       "<div><style>\n",
       ".dataframe > thead > tr,\n",
       ".dataframe > tbody > tr {\n",
       "  text-align: right;\n",
       "  white-space: pre-wrap;\n",
       "}\n",
       "</style>\n",
       "<small>shape: (5, 24)</small><table border=\"1\" class=\"dataframe\"><thead><tr><th>playerID</th><th>yearID</th><th>stint</th><th>teamID</th><th>lgID</th><th>G</th><th>G_batting</th><th>AB</th><th>R</th><th>H</th><th>2B</th><th>3B</th><th>HR</th><th>RBI</th><th>SB</th><th>CS</th><th>BB</th><th>SO</th><th>IBB</th><th>HBP</th><th>SH</th><th>SF</th><th>GIDP</th><th>G_old</th></tr><tr><td>str</td><td>i64</td><td>i64</td><td>str</td><td>str</td><td>i64</td><td>i64</td><td>i64</td><td>i64</td><td>i64</td><td>i64</td><td>i64</td><td>i64</td><td>i64</td><td>i64</td><td>i64</td><td>i64</td><td>i64</td><td>i64</td><td>i64</td><td>i64</td><td>i64</td><td>i64</td><td>str</td></tr></thead><tbody><tr><td>&quot;aardsda01&quot;</td><td>2004</td><td>1</td><td>&quot;SFN&quot;</td><td>&quot;NL&quot;</td><td>11</td><td>null</td><td>0</td><td>0</td><td>0</td><td>0</td><td>0</td><td>0</td><td>0</td><td>0</td><td>0</td><td>0</td><td>0</td><td>0</td><td>0</td><td>0</td><td>0</td><td>0</td><td>null</td></tr><tr><td>&quot;aardsda01&quot;</td><td>2006</td><td>1</td><td>&quot;CHN&quot;</td><td>&quot;NL&quot;</td><td>45</td><td>null</td><td>2</td><td>0</td><td>0</td><td>0</td><td>0</td><td>0</td><td>0</td><td>0</td><td>0</td><td>0</td><td>0</td><td>0</td><td>0</td><td>1</td><td>0</td><td>0</td><td>null</td></tr><tr><td>&quot;aardsda01&quot;</td><td>2007</td><td>1</td><td>&quot;CHA&quot;</td><td>&quot;AL&quot;</td><td>25</td><td>null</td><td>0</td><td>0</td><td>0</td><td>0</td><td>0</td><td>0</td><td>0</td><td>0</td><td>0</td><td>0</td><td>0</td><td>0</td><td>0</td><td>0</td><td>0</td><td>0</td><td>null</td></tr><tr><td>&quot;aardsda01&quot;</td><td>2008</td><td>1</td><td>&quot;BOS&quot;</td><td>&quot;AL&quot;</td><td>47</td><td>null</td><td>1</td><td>0</td><td>0</td><td>0</td><td>0</td><td>0</td><td>0</td><td>0</td><td>0</td><td>0</td><td>1</td><td>0</td><td>0</td><td>0</td><td>0</td><td>0</td><td>null</td></tr><tr><td>&quot;aardsda01&quot;</td><td>2009</td><td>1</td><td>&quot;SEA&quot;</td><td>&quot;AL&quot;</td><td>73</td><td>null</td><td>0</td><td>0</td><td>0</td><td>0</td><td>0</td><td>0</td><td>0</td><td>0</td><td>0</td><td>0</td><td>0</td><td>0</td><td>0</td><td>0</td><td>0</td><td>0</td><td>null</td></tr></tbody></table></div>"
      ],
      "text/plain": [
       "shape: (5, 24)\n",
       "┌───────────┬────────┬───────┬────────┬───┬─────┬─────┬──────┬───────┐\n",
       "│ playerID  ┆ yearID ┆ stint ┆ teamID ┆ … ┆ SH  ┆ SF  ┆ GIDP ┆ G_old │\n",
       "│ ---       ┆ ---    ┆ ---   ┆ ---    ┆   ┆ --- ┆ --- ┆ ---  ┆ ---   │\n",
       "│ str       ┆ i64    ┆ i64   ┆ str    ┆   ┆ i64 ┆ i64 ┆ i64  ┆ str   │\n",
       "╞═══════════╪════════╪═══════╪════════╪═══╪═════╪═════╪══════╪═══════╡\n",
       "│ aardsda01 ┆ 2004   ┆ 1     ┆ SFN    ┆ … ┆ 0   ┆ 0   ┆ 0    ┆ null  │\n",
       "│ aardsda01 ┆ 2006   ┆ 1     ┆ CHN    ┆ … ┆ 1   ┆ 0   ┆ 0    ┆ null  │\n",
       "│ aardsda01 ┆ 2007   ┆ 1     ┆ CHA    ┆ … ┆ 0   ┆ 0   ┆ 0    ┆ null  │\n",
       "│ aardsda01 ┆ 2008   ┆ 1     ┆ BOS    ┆ … ┆ 0   ┆ 0   ┆ 0    ┆ null  │\n",
       "│ aardsda01 ┆ 2009   ┆ 1     ┆ SEA    ┆ … ┆ 0   ┆ 0   ┆ 0    ┆ null  │\n",
       "└───────────┴────────┴───────┴────────┴───┴─────┴─────┴──────┴───────┘"
      ]
     },
     "execution_count": 98,
     "metadata": {},
     "output_type": "execute_result"
    }
   ],
   "source": [
    "batting = pl.read_csv('./Data/lahman_1871-2023_csv/Batting.csv') \n",
    "batting.head()"
   ]
  },
  {
   "cell_type": "code",
   "execution_count": 99,
   "id": "2efbf385-0519-4261-b995-9b7c6d791f8a",
   "metadata": {},
   "outputs": [
    {
     "data": {
      "text/html": [
       "<div><style>\n",
       ".dataframe > thead > tr,\n",
       ".dataframe > tbody > tr {\n",
       "  text-align: right;\n",
       "  white-space: pre-wrap;\n",
       "}\n",
       "</style>\n",
       "<small>shape: (156, 5)</small><table border=\"1\" class=\"dataframe\"><thead><tr><th>yearID</th><th>lgID</th><th>total_runs</th><th>total_ipouts</th><th>ERA</th></tr><tr><td>i64</td><td>str</td><td>i64</td><td>i64</td><td>f64</td></tr></thead><tbody><tr><td>1946</td><td>&quot;NL&quot;</td><td>4918</td><td>33254</td><td>3.993084</td></tr><tr><td>1946</td><td>&quot;AL&quot;</td><td>5037</td><td>33186</td><td>4.098084</td></tr><tr><td>1947</td><td>&quot;NL&quot;</td><td>5669</td><td>32902</td><td>4.652088</td></tr><tr><td>1947</td><td>&quot;AL&quot;</td><td>5161</td><td>33228</td><td>4.193662</td></tr><tr><td>1948</td><td>&quot;NL&quot;</td><td>5474</td><td>32867</td><td>4.496851</td></tr><tr><td>&hellip;</td><td>&hellip;</td><td>&hellip;</td><td>&hellip;</td><td>&hellip;</td></tr><tr><td>2021</td><td>&quot;NL&quot;</td><td>10869</td><td>63797</td><td>4.59995</td></tr><tr><td>2022</td><td>&quot;AL&quot;</td><td>10215</td><td>64676</td><td>4.26441</td></tr><tr><td>2022</td><td>&quot;NL&quot;</td><td>10602</td><td>64550</td><td>4.434609</td></tr><tr><td>2023</td><td>&quot;AL&quot;</td><td>11110</td><td>64733</td><td>4.633958</td></tr><tr><td>2023</td><td>&quot;NL&quot;</td><td>11322</td><td>64529</td><td>4.737312</td></tr></tbody></table></div>"
      ],
      "text/plain": [
       "shape: (156, 5)\n",
       "┌────────┬──────┬────────────┬──────────────┬──────────┐\n",
       "│ yearID ┆ lgID ┆ total_runs ┆ total_ipouts ┆ ERA      │\n",
       "│ ---    ┆ ---  ┆ ---        ┆ ---          ┆ ---      │\n",
       "│ i64    ┆ str  ┆ i64        ┆ i64          ┆ f64      │\n",
       "╞════════╪══════╪════════════╪══════════════╪══════════╡\n",
       "│ 1946   ┆ NL   ┆ 4918       ┆ 33254        ┆ 3.993084 │\n",
       "│ 1946   ┆ AL   ┆ 5037       ┆ 33186        ┆ 4.098084 │\n",
       "│ 1947   ┆ NL   ┆ 5669       ┆ 32902        ┆ 4.652088 │\n",
       "│ 1947   ┆ AL   ┆ 5161       ┆ 33228        ┆ 4.193662 │\n",
       "│ 1948   ┆ NL   ┆ 5474       ┆ 32867        ┆ 4.496851 │\n",
       "│ …      ┆ …    ┆ …          ┆ …            ┆ …        │\n",
       "│ 2021   ┆ NL   ┆ 10869      ┆ 63797        ┆ 4.59995  │\n",
       "│ 2022   ┆ AL   ┆ 10215      ┆ 64676        ┆ 4.26441  │\n",
       "│ 2022   ┆ NL   ┆ 10602      ┆ 64550        ┆ 4.434609 │\n",
       "│ 2023   ┆ AL   ┆ 11110      ┆ 64733        ┆ 4.633958 │\n",
       "│ 2023   ┆ NL   ┆ 11322      ┆ 64529        ┆ 4.737312 │\n",
       "└────────┴──────┴────────────┴──────────────┴──────────┘"
      ]
     },
     "execution_count": 99,
     "metadata": {},
     "output_type": "execute_result"
    }
   ],
   "source": [
    "ERA = (\n",
    "    pitching\n",
    "    .select([pl.col('IPouts'), pl.col('yearID'), pl.col('R'), pl.col('lgID')])\n",
    "    .filter(pl.col('yearID') >= 1946)\n",
    "    .group_by(['yearID', 'lgID'])\n",
    "    .agg([\n",
    "        pl.col('R').sum().alias('total_runs'),\n",
    "        pl.col('IPouts').sum().alias('total_ipouts')\n",
    "    ])\n",
    "    .with_columns([\n",
    "        ((pl.col('total_runs') / pl.col('total_ipouts')) * 27).alias('ERA')\n",
    "    ])\n",
    "    .sort(pl.col('yearID'))\n",
    ")\n",
    "ERA"
   ]
  },
  {
   "cell_type": "code",
   "execution_count": 100,
   "id": "b1658be2-d2c1-408f-bcb8-9dd7c36b4cd3",
   "metadata": {},
   "outputs": [
    {
     "data": {
      "text/html": [
       "<div><style>\n",
       ".dataframe > thead > tr,\n",
       ".dataframe > tbody > tr {\n",
       "  text-align: right;\n",
       "  white-space: pre-wrap;\n",
       "}\n",
       "</style>\n",
       "<small>shape: (156, 4)</small><table border=\"1\" class=\"dataframe\"><thead><tr><th>yearID</th><th>lgID</th><th>ERA</th><th>DH_Rule_Applied</th></tr><tr><td>i64</td><td>str</td><td>f64</td><td>str</td></tr></thead><tbody><tr><td>1946</td><td>&quot;NL&quot;</td><td>3.993084</td><td>&quot;No&quot;</td></tr><tr><td>1946</td><td>&quot;AL&quot;</td><td>4.098084</td><td>&quot;No&quot;</td></tr><tr><td>1947</td><td>&quot;NL&quot;</td><td>4.652088</td><td>&quot;No&quot;</td></tr><tr><td>1947</td><td>&quot;AL&quot;</td><td>4.193662</td><td>&quot;No&quot;</td></tr><tr><td>1948</td><td>&quot;NL&quot;</td><td>4.496851</td><td>&quot;No&quot;</td></tr><tr><td>&hellip;</td><td>&hellip;</td><td>&hellip;</td><td>&hellip;</td></tr><tr><td>2021</td><td>&quot;NL&quot;</td><td>4.59995</td><td>&quot;No&quot;</td></tr><tr><td>2022</td><td>&quot;AL&quot;</td><td>4.26441</td><td>&quot;Yes&quot;</td></tr><tr><td>2022</td><td>&quot;NL&quot;</td><td>4.434609</td><td>&quot;Yes&quot;</td></tr><tr><td>2023</td><td>&quot;AL&quot;</td><td>4.633958</td><td>&quot;Yes&quot;</td></tr><tr><td>2023</td><td>&quot;NL&quot;</td><td>4.737312</td><td>&quot;Yes&quot;</td></tr></tbody></table></div>"
      ],
      "text/plain": [
       "shape: (156, 4)\n",
       "┌────────┬──────┬──────────┬─────────────────┐\n",
       "│ yearID ┆ lgID ┆ ERA      ┆ DH_Rule_Applied │\n",
       "│ ---    ┆ ---  ┆ ---      ┆ ---             │\n",
       "│ i64    ┆ str  ┆ f64      ┆ str             │\n",
       "╞════════╪══════╪══════════╪═════════════════╡\n",
       "│ 1946   ┆ NL   ┆ 3.993084 ┆ No              │\n",
       "│ 1946   ┆ AL   ┆ 4.098084 ┆ No              │\n",
       "│ 1947   ┆ NL   ┆ 4.652088 ┆ No              │\n",
       "│ 1947   ┆ AL   ┆ 4.193662 ┆ No              │\n",
       "│ 1948   ┆ NL   ┆ 4.496851 ┆ No              │\n",
       "│ …      ┆ …    ┆ …        ┆ …               │\n",
       "│ 2021   ┆ NL   ┆ 4.59995  ┆ No              │\n",
       "│ 2022   ┆ AL   ┆ 4.26441  ┆ Yes             │\n",
       "│ 2022   ┆ NL   ┆ 4.434609 ┆ Yes             │\n",
       "│ 2023   ┆ AL   ┆ 4.633958 ┆ Yes             │\n",
       "│ 2023   ┆ NL   ┆ 4.737312 ┆ Yes             │\n",
       "└────────┴──────┴──────────┴─────────────────┘"
      ]
     },
     "execution_count": 100,
     "metadata": {},
     "output_type": "execute_result"
    }
   ],
   "source": [
    "ERA_with_DH_Rule = ERA.with_columns(\n",
    "    pl.when((pl.col('yearID') >= 1973) & (pl.col('lgID') == 'AL'))\n",
    "    .then(pl.lit(\"Yes\"))\n",
    "    .when(((pl.col('yearID') == 2020) | (pl.col('yearID') >= 2022)) & (pl.col('lgID') == 'NL'))\n",
    "    .then(pl.lit(\"Yes\"))\n",
    "    .otherwise(pl.lit(\"No\"))\n",
    "    .alias(\"DH_Rule_Applied\")\n",
    ").select([pl.col('yearID'), pl.col('lgID'), pl.col('ERA'), pl.col('DH_Rule_Applied')])\n",
    "ERA_with_DH_Rule"
   ]
  },
  {
   "cell_type": "code",
   "execution_count": 101,
   "id": "b955ac07-be27-4f6f-8ea4-94e6a6073b7b",
   "metadata": {},
   "outputs": [],
   "source": [
    "ERA_with_DH_Rule.write_csv(\"ERA_with_DH_Rule.csv\")"
   ]
  },
  {
   "cell_type": "code",
   "execution_count": 102,
   "id": "e28fcbe1-c095-4a29-ab8b-bb346f04a77e",
   "metadata": {},
   "outputs": [
    {
     "data": {
      "text/html": [
       "<div><style>\n",
       ".dataframe > thead > tr,\n",
       ".dataframe > tbody > tr {\n",
       "  text-align: right;\n",
       "  white-space: pre-wrap;\n",
       "}\n",
       "</style>\n",
       "<small>shape: (156, 8)</small><table border=\"1\" class=\"dataframe\"><thead><tr><th>yearID</th><th>lgID</th><th>total_1B</th><th>total_2B</th><th>total_3B</th><th>total_HR</th><th>total_AB</th><th>SLG</th></tr><tr><td>i64</td><td>str</td><td>i64</td><td>i64</td><td>i64</td><td>i64</td><td>i64</td><td>f64</td></tr></thead><tbody><tr><td>1946</td><td>&quot;AL&quot;</td><td>7912</td><td>1827</td><td>401</td><td>653</td><td>42239</td><td>0.364142</td></tr><tr><td>1946</td><td>&quot;NL&quot;</td><td>8066</td><td>1752</td><td>382</td><td>562</td><td>42094</td><td>0.35549</td></tr><tr><td>1947</td><td>&quot;NL&quot;</td><td>8126</td><td>1860</td><td>392</td><td>886</td><td>42434</td><td>0.390394</td></tr><tr><td>1947</td><td>&quot;AL&quot;</td><td>7940</td><td>1708</td><td>412</td><td>679</td><td>42002</td><td>0.364459</td></tr><tr><td>1948</td><td>&quot;AL&quot;</td><td>8206</td><td>1846</td><td>450</td><td>710</td><td>42155</td><td>0.381639</td></tr><tr><td>&hellip;</td><td>&hellip;</td><td>&hellip;</td><td>&hellip;</td><td>&hellip;</td><td>&hellip;</td><td>&hellip;</td><td>&hellip;</td></tr><tr><td>2021</td><td>&quot;NL&quot;</td><td>12376</td><td>3907</td><td>354</td><td>2885</td><td>80604</td><td>0.406828</td></tr><tr><td>2022</td><td>&quot;NL&quot;</td><td>12846</td><td>3984</td><td>348</td><td>2658</td><td>81649</td><td>0.397923</td></tr><tr><td>2022</td><td>&quot;AL&quot;</td><td>13031</td><td>3956</td><td>295</td><td>2557</td><td>81816</td><td>0.391806</td></tr><tr><td>2023</td><td>&quot;NL&quot;</td><td>13114</td><td>4098</td><td>370</td><td>2943</td><td>82094</td><td>0.416498</td></tr><tr><td>2023</td><td>&quot;AL&quot;</td><td>12917</td><td>4130</td><td>342</td><td>2925</td><td>82324</td><td>0.411824</td></tr></tbody></table></div>"
      ],
      "text/plain": [
       "shape: (156, 8)\n",
       "┌────────┬──────┬──────────┬──────────┬──────────┬──────────┬──────────┬──────────┐\n",
       "│ yearID ┆ lgID ┆ total_1B ┆ total_2B ┆ total_3B ┆ total_HR ┆ total_AB ┆ SLG      │\n",
       "│ ---    ┆ ---  ┆ ---      ┆ ---      ┆ ---      ┆ ---      ┆ ---      ┆ ---      │\n",
       "│ i64    ┆ str  ┆ i64      ┆ i64      ┆ i64      ┆ i64      ┆ i64      ┆ f64      │\n",
       "╞════════╪══════╪══════════╪══════════╪══════════╪══════════╪══════════╪══════════╡\n",
       "│ 1946   ┆ AL   ┆ 7912     ┆ 1827     ┆ 401      ┆ 653      ┆ 42239    ┆ 0.364142 │\n",
       "│ 1946   ┆ NL   ┆ 8066     ┆ 1752     ┆ 382      ┆ 562      ┆ 42094    ┆ 0.35549  │\n",
       "│ 1947   ┆ NL   ┆ 8126     ┆ 1860     ┆ 392      ┆ 886      ┆ 42434    ┆ 0.390394 │\n",
       "│ 1947   ┆ AL   ┆ 7940     ┆ 1708     ┆ 412      ┆ 679      ┆ 42002    ┆ 0.364459 │\n",
       "│ 1948   ┆ AL   ┆ 8206     ┆ 1846     ┆ 450      ┆ 710      ┆ 42155    ┆ 0.381639 │\n",
       "│ …      ┆ …    ┆ …        ┆ …        ┆ …        ┆ …        ┆ …        ┆ …        │\n",
       "│ 2021   ┆ NL   ┆ 12376    ┆ 3907     ┆ 354      ┆ 2885     ┆ 80604    ┆ 0.406828 │\n",
       "│ 2022   ┆ NL   ┆ 12846    ┆ 3984     ┆ 348      ┆ 2658     ┆ 81649    ┆ 0.397923 │\n",
       "│ 2022   ┆ AL   ┆ 13031    ┆ 3956     ┆ 295      ┆ 2557     ┆ 81816    ┆ 0.391806 │\n",
       "│ 2023   ┆ NL   ┆ 13114    ┆ 4098     ┆ 370      ┆ 2943     ┆ 82094    ┆ 0.416498 │\n",
       "│ 2023   ┆ AL   ┆ 12917    ┆ 4130     ┆ 342      ┆ 2925     ┆ 82324    ┆ 0.411824 │\n",
       "└────────┴──────┴──────────┴──────────┴──────────┴──────────┴──────────┴──────────┘"
      ]
     },
     "execution_count": 102,
     "metadata": {},
     "output_type": "execute_result"
    }
   ],
   "source": [
    "slugging = (\n",
    "    batting\n",
    "    .select([pl.col('yearID'),pl.col('lgID'),(pl.col('H') - pl.col('2B') - pl.col('3B') - pl.col('HR')).alias('1B'),pl.col('2B'),pl.col('3B'),pl.col('HR'),pl.col('AB')])\n",
    "    .filter(pl.col('yearID') >= 1946)\n",
    "    .group_by(['yearID', 'lgID'])\n",
    "    .agg([\n",
    "        pl.col('1B').sum().alias('total_1B'),\n",
    "        pl.col('2B').sum().alias('total_2B'),\n",
    "        pl.col('3B').sum().alias('total_3B'),\n",
    "        pl.col('HR').sum().alias('total_HR'),\n",
    "        pl.col('AB').sum().alias('total_AB'),\n",
    "    ])\n",
    "    .with_columns([\n",
    "        ((pl.col('total_1B') + 2 * pl.col('total_2B') + 3 * pl.col('total_3B') + 4 * pl.col('total_HR')) / pl.col('total_AB')).alias('SLG')\n",
    "    ])\n",
    "    .sort(pl.col('yearID'))\n",
    ")\n",
    "slugging"
   ]
  },
  {
   "cell_type": "code",
   "execution_count": 103,
   "id": "8cf0db43-a3ed-46aa-ae91-1a4c1593b3dd",
   "metadata": {},
   "outputs": [
    {
     "data": {
      "text/html": [
       "<div><style>\n",
       ".dataframe > thead > tr,\n",
       ".dataframe > tbody > tr {\n",
       "  text-align: right;\n",
       "  white-space: pre-wrap;\n",
       "}\n",
       "</style>\n",
       "<small>shape: (156, 4)</small><table border=\"1\" class=\"dataframe\"><thead><tr><th>yearID</th><th>lgID</th><th>SLG</th><th>DH_Rule_Applied</th></tr><tr><td>i64</td><td>str</td><td>f64</td><td>str</td></tr></thead><tbody><tr><td>1946</td><td>&quot;AL&quot;</td><td>0.364142</td><td>&quot;No&quot;</td></tr><tr><td>1946</td><td>&quot;NL&quot;</td><td>0.35549</td><td>&quot;No&quot;</td></tr><tr><td>1947</td><td>&quot;NL&quot;</td><td>0.390394</td><td>&quot;No&quot;</td></tr><tr><td>1947</td><td>&quot;AL&quot;</td><td>0.364459</td><td>&quot;No&quot;</td></tr><tr><td>1948</td><td>&quot;AL&quot;</td><td>0.381639</td><td>&quot;No&quot;</td></tr><tr><td>&hellip;</td><td>&hellip;</td><td>&hellip;</td><td>&hellip;</td></tr><tr><td>2021</td><td>&quot;NL&quot;</td><td>0.406828</td><td>&quot;No&quot;</td></tr><tr><td>2022</td><td>&quot;NL&quot;</td><td>0.397923</td><td>&quot;Yes&quot;</td></tr><tr><td>2022</td><td>&quot;AL&quot;</td><td>0.391806</td><td>&quot;Yes&quot;</td></tr><tr><td>2023</td><td>&quot;NL&quot;</td><td>0.416498</td><td>&quot;Yes&quot;</td></tr><tr><td>2023</td><td>&quot;AL&quot;</td><td>0.411824</td><td>&quot;Yes&quot;</td></tr></tbody></table></div>"
      ],
      "text/plain": [
       "shape: (156, 4)\n",
       "┌────────┬──────┬──────────┬─────────────────┐\n",
       "│ yearID ┆ lgID ┆ SLG      ┆ DH_Rule_Applied │\n",
       "│ ---    ┆ ---  ┆ ---      ┆ ---             │\n",
       "│ i64    ┆ str  ┆ f64      ┆ str             │\n",
       "╞════════╪══════╪══════════╪═════════════════╡\n",
       "│ 1946   ┆ AL   ┆ 0.364142 ┆ No              │\n",
       "│ 1946   ┆ NL   ┆ 0.35549  ┆ No              │\n",
       "│ 1947   ┆ NL   ┆ 0.390394 ┆ No              │\n",
       "│ 1947   ┆ AL   ┆ 0.364459 ┆ No              │\n",
       "│ 1948   ┆ AL   ┆ 0.381639 ┆ No              │\n",
       "│ …      ┆ …    ┆ …        ┆ …               │\n",
       "│ 2021   ┆ NL   ┆ 0.406828 ┆ No              │\n",
       "│ 2022   ┆ NL   ┆ 0.397923 ┆ Yes             │\n",
       "│ 2022   ┆ AL   ┆ 0.391806 ┆ Yes             │\n",
       "│ 2023   ┆ NL   ┆ 0.416498 ┆ Yes             │\n",
       "│ 2023   ┆ AL   ┆ 0.411824 ┆ Yes             │\n",
       "└────────┴──────┴──────────┴─────────────────┘"
      ]
     },
     "execution_count": 103,
     "metadata": {},
     "output_type": "execute_result"
    }
   ],
   "source": [
    "slugging_with_DH_Rule = slugging.with_columns(\n",
    "    pl.when((pl.col('yearID') >= 1973) & (pl.col('lgID') == 'AL'))\n",
    "    .then(pl.lit(\"Yes\"))\n",
    "    .when(((pl.col('yearID') == 2020) | (pl.col('yearID') >= 2022)) & (pl.col('lgID') == 'NL'))\n",
    "    .then(pl.lit(\"Yes\"))\n",
    "    .otherwise(pl.lit(\"No\"))\n",
    "    .alias(\"DH_Rule_Applied\")\n",
    ") .select([\n",
    "    pl.col('yearID'),\n",
    "    pl.col('lgID'),\n",
    "    pl.col('SLG'),\n",
    "    pl.col('DH_Rule_Applied')\n",
    "])\n",
    "slugging_with_DH_Rule"
   ]
  },
  {
   "cell_type": "code",
   "execution_count": 104,
   "id": "eb65400d-1e69-4df1-90cc-c8485b2950be",
   "metadata": {},
   "outputs": [],
   "source": [
    "slugging_with_DH_Rule.write_csv(\"slugging_with_DH_Rule.csv\")"
   ]
  }
 ],
 "metadata": {
  "kernelspec": {
   "display_name": "Python 3 (ipykernel)",
   "language": "python",
   "name": "python3"
  },
  "language_info": {
   "codemirror_mode": {
    "name": "ipython",
    "version": 3
   },
   "file_extension": ".py",
   "mimetype": "text/x-python",
   "name": "python",
   "nbconvert_exporter": "python",
   "pygments_lexer": "ipython3",
   "version": "3.12.5"
  }
 },
 "nbformat": 4,
 "nbformat_minor": 5
}
