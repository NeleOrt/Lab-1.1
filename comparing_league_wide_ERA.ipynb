{
 "cells": [
  {
   "cell_type": "code",
   "execution_count": 10,
   "id": "3b95be5c-b775-4b63-8743-d8e469fb1e4f",
   "metadata": {},
   "outputs": [],
   "source": [
    "import polars as pl\n",
    "import plotnine as pn"
   ]
  },
  {
   "cell_type": "code",
   "execution_count": 64,
   "id": "e83dd88c-3ba5-4264-8808-2ce253c812ab",
   "metadata": {},
   "outputs": [],
   "source": [
    "pn.options.figure_size = (10, 4)"
   ]
  },
  {
   "cell_type": "code",
   "execution_count": 2,
   "id": "2974f263-853b-45b6-9192-695806f45517",
   "metadata": {},
   "outputs": [
    {
     "data": {
      "text/html": [
       "<div><style>\n",
       ".dataframe > thead > tr,\n",
       ".dataframe > tbody > tr {\n",
       "  text-align: right;\n",
       "  white-space: pre-wrap;\n",
       "}\n",
       "</style>\n",
       "<small>shape: (5, 30)</small><table border=\"1\" class=\"dataframe\"><thead><tr><th>playerID</th><th>yearID</th><th>stint</th><th>teamID</th><th>lgID</th><th>W</th><th>L</th><th>G</th><th>GS</th><th>CG</th><th>SHO</th><th>SV</th><th>IPouts</th><th>H</th><th>ER</th><th>HR</th><th>BB</th><th>SO</th><th>BAOpp</th><th>ERA</th><th>IBB</th><th>WP</th><th>HBP</th><th>BK</th><th>BFP</th><th>GF</th><th>R</th><th>SH</th><th>SF</th><th>GIDP</th></tr><tr><td>str</td><td>i64</td><td>i64</td><td>str</td><td>str</td><td>i64</td><td>i64</td><td>i64</td><td>i64</td><td>i64</td><td>i64</td><td>i64</td><td>i64</td><td>i64</td><td>i64</td><td>i64</td><td>i64</td><td>i64</td><td>f64</td><td>f64</td><td>i64</td><td>i64</td><td>i64</td><td>i64</td><td>i64</td><td>i64</td><td>i64</td><td>i64</td><td>i64</td><td>i64</td></tr></thead><tbody><tr><td>&quot;aardsda01&quot;</td><td>2004</td><td>1</td><td>&quot;SFN&quot;</td><td>&quot;NL&quot;</td><td>1</td><td>0</td><td>11</td><td>0</td><td>0</td><td>0</td><td>0</td><td>32</td><td>20</td><td>8</td><td>1</td><td>10</td><td>5</td><td>0.417</td><td>6.75</td><td>0</td><td>0</td><td>2</td><td>0</td><td>61</td><td>5</td><td>8</td><td>0</td><td>1</td><td>1</td></tr><tr><td>&quot;aardsda01&quot;</td><td>2006</td><td>1</td><td>&quot;CHN&quot;</td><td>&quot;NL&quot;</td><td>3</td><td>0</td><td>45</td><td>0</td><td>0</td><td>0</td><td>0</td><td>159</td><td>41</td><td>24</td><td>9</td><td>28</td><td>49</td><td>0.214</td><td>4.08</td><td>0</td><td>1</td><td>1</td><td>0</td><td>225</td><td>9</td><td>25</td><td>1</td><td>3</td><td>2</td></tr><tr><td>&quot;aardsda01&quot;</td><td>2007</td><td>1</td><td>&quot;CHA&quot;</td><td>&quot;AL&quot;</td><td>2</td><td>1</td><td>25</td><td>0</td><td>0</td><td>0</td><td>0</td><td>97</td><td>39</td><td>23</td><td>4</td><td>17</td><td>36</td><td>0.3</td><td>6.4</td><td>3</td><td>2</td><td>1</td><td>0</td><td>151</td><td>7</td><td>24</td><td>2</td><td>1</td><td>1</td></tr><tr><td>&quot;aardsda01&quot;</td><td>2008</td><td>1</td><td>&quot;BOS&quot;</td><td>&quot;AL&quot;</td><td>4</td><td>2</td><td>47</td><td>0</td><td>0</td><td>0</td><td>0</td><td>146</td><td>49</td><td>30</td><td>4</td><td>35</td><td>49</td><td>0.268</td><td>5.55</td><td>2</td><td>3</td><td>5</td><td>0</td><td>228</td><td>7</td><td>32</td><td>3</td><td>2</td><td>4</td></tr><tr><td>&quot;aardsda01&quot;</td><td>2009</td><td>1</td><td>&quot;SEA&quot;</td><td>&quot;AL&quot;</td><td>3</td><td>6</td><td>73</td><td>0</td><td>0</td><td>0</td><td>38</td><td>214</td><td>49</td><td>20</td><td>4</td><td>34</td><td>80</td><td>0.19</td><td>2.52</td><td>3</td><td>2</td><td>0</td><td>0</td><td>296</td><td>53</td><td>23</td><td>2</td><td>1</td><td>2</td></tr></tbody></table></div>"
      ],
      "text/plain": [
       "shape: (5, 30)\n",
       "┌───────────┬────────┬───────┬────────┬───┬─────┬─────┬─────┬──────┐\n",
       "│ playerID  ┆ yearID ┆ stint ┆ teamID ┆ … ┆ R   ┆ SH  ┆ SF  ┆ GIDP │\n",
       "│ ---       ┆ ---    ┆ ---   ┆ ---    ┆   ┆ --- ┆ --- ┆ --- ┆ ---  │\n",
       "│ str       ┆ i64    ┆ i64   ┆ str    ┆   ┆ i64 ┆ i64 ┆ i64 ┆ i64  │\n",
       "╞═══════════╪════════╪═══════╪════════╪═══╪═════╪═════╪═════╪══════╡\n",
       "│ aardsda01 ┆ 2004   ┆ 1     ┆ SFN    ┆ … ┆ 8   ┆ 0   ┆ 1   ┆ 1    │\n",
       "│ aardsda01 ┆ 2006   ┆ 1     ┆ CHN    ┆ … ┆ 25  ┆ 1   ┆ 3   ┆ 2    │\n",
       "│ aardsda01 ┆ 2007   ┆ 1     ┆ CHA    ┆ … ┆ 24  ┆ 2   ┆ 1   ┆ 1    │\n",
       "│ aardsda01 ┆ 2008   ┆ 1     ┆ BOS    ┆ … ┆ 32  ┆ 3   ┆ 2   ┆ 4    │\n",
       "│ aardsda01 ┆ 2009   ┆ 1     ┆ SEA    ┆ … ┆ 23  ┆ 2   ┆ 1   ┆ 2    │\n",
       "└───────────┴────────┴───────┴────────┴───┴─────┴─────┴─────┴──────┘"
      ]
     },
     "execution_count": 2,
     "metadata": {},
     "output_type": "execute_result"
    }
   ],
   "source": [
    "pitching = pl.read_csv('./Data/lahman_1871-2023_csv/Pitching.csv') \n",
    "pitching.head()"
   ]
  },
  {
   "cell_type": "code",
   "execution_count": 3,
   "id": "ca71cf14-b3f0-4d91-8198-636e55f01019",
   "metadata": {},
   "outputs": [
    {
     "data": {
      "text/html": [
       "<div><style>\n",
       ".dataframe > thead > tr,\n",
       ".dataframe > tbody > tr {\n",
       "  text-align: right;\n",
       "  white-space: pre-wrap;\n",
       "}\n",
       "</style>\n",
       "<small>shape: (5, 24)</small><table border=\"1\" class=\"dataframe\"><thead><tr><th>playerID</th><th>yearID</th><th>stint</th><th>teamID</th><th>lgID</th><th>G</th><th>G_batting</th><th>AB</th><th>R</th><th>H</th><th>2B</th><th>3B</th><th>HR</th><th>RBI</th><th>SB</th><th>CS</th><th>BB</th><th>SO</th><th>IBB</th><th>HBP</th><th>SH</th><th>SF</th><th>GIDP</th><th>G_old</th></tr><tr><td>str</td><td>i64</td><td>i64</td><td>str</td><td>str</td><td>i64</td><td>i64</td><td>i64</td><td>i64</td><td>i64</td><td>i64</td><td>i64</td><td>i64</td><td>i64</td><td>i64</td><td>i64</td><td>i64</td><td>i64</td><td>i64</td><td>i64</td><td>i64</td><td>i64</td><td>i64</td><td>str</td></tr></thead><tbody><tr><td>&quot;aardsda01&quot;</td><td>2004</td><td>1</td><td>&quot;SFN&quot;</td><td>&quot;NL&quot;</td><td>11</td><td>null</td><td>0</td><td>0</td><td>0</td><td>0</td><td>0</td><td>0</td><td>0</td><td>0</td><td>0</td><td>0</td><td>0</td><td>0</td><td>0</td><td>0</td><td>0</td><td>0</td><td>null</td></tr><tr><td>&quot;aardsda01&quot;</td><td>2006</td><td>1</td><td>&quot;CHN&quot;</td><td>&quot;NL&quot;</td><td>45</td><td>null</td><td>2</td><td>0</td><td>0</td><td>0</td><td>0</td><td>0</td><td>0</td><td>0</td><td>0</td><td>0</td><td>0</td><td>0</td><td>0</td><td>1</td><td>0</td><td>0</td><td>null</td></tr><tr><td>&quot;aardsda01&quot;</td><td>2007</td><td>1</td><td>&quot;CHA&quot;</td><td>&quot;AL&quot;</td><td>25</td><td>null</td><td>0</td><td>0</td><td>0</td><td>0</td><td>0</td><td>0</td><td>0</td><td>0</td><td>0</td><td>0</td><td>0</td><td>0</td><td>0</td><td>0</td><td>0</td><td>0</td><td>null</td></tr><tr><td>&quot;aardsda01&quot;</td><td>2008</td><td>1</td><td>&quot;BOS&quot;</td><td>&quot;AL&quot;</td><td>47</td><td>null</td><td>1</td><td>0</td><td>0</td><td>0</td><td>0</td><td>0</td><td>0</td><td>0</td><td>0</td><td>0</td><td>1</td><td>0</td><td>0</td><td>0</td><td>0</td><td>0</td><td>null</td></tr><tr><td>&quot;aardsda01&quot;</td><td>2009</td><td>1</td><td>&quot;SEA&quot;</td><td>&quot;AL&quot;</td><td>73</td><td>null</td><td>0</td><td>0</td><td>0</td><td>0</td><td>0</td><td>0</td><td>0</td><td>0</td><td>0</td><td>0</td><td>0</td><td>0</td><td>0</td><td>0</td><td>0</td><td>0</td><td>null</td></tr></tbody></table></div>"
      ],
      "text/plain": [
       "shape: (5, 24)\n",
       "┌───────────┬────────┬───────┬────────┬───┬─────┬─────┬──────┬───────┐\n",
       "│ playerID  ┆ yearID ┆ stint ┆ teamID ┆ … ┆ SH  ┆ SF  ┆ GIDP ┆ G_old │\n",
       "│ ---       ┆ ---    ┆ ---   ┆ ---    ┆   ┆ --- ┆ --- ┆ ---  ┆ ---   │\n",
       "│ str       ┆ i64    ┆ i64   ┆ str    ┆   ┆ i64 ┆ i64 ┆ i64  ┆ str   │\n",
       "╞═══════════╪════════╪═══════╪════════╪═══╪═════╪═════╪══════╪═══════╡\n",
       "│ aardsda01 ┆ 2004   ┆ 1     ┆ SFN    ┆ … ┆ 0   ┆ 0   ┆ 0    ┆ null  │\n",
       "│ aardsda01 ┆ 2006   ┆ 1     ┆ CHN    ┆ … ┆ 1   ┆ 0   ┆ 0    ┆ null  │\n",
       "│ aardsda01 ┆ 2007   ┆ 1     ┆ CHA    ┆ … ┆ 0   ┆ 0   ┆ 0    ┆ null  │\n",
       "│ aardsda01 ┆ 2008   ┆ 1     ┆ BOS    ┆ … ┆ 0   ┆ 0   ┆ 0    ┆ null  │\n",
       "│ aardsda01 ┆ 2009   ┆ 1     ┆ SEA    ┆ … ┆ 0   ┆ 0   ┆ 0    ┆ null  │\n",
       "└───────────┴────────┴───────┴────────┴───┴─────┴─────┴──────┴───────┘"
      ]
     },
     "execution_count": 3,
     "metadata": {},
     "output_type": "execute_result"
    }
   ],
   "source": [
    "batting = pl.read_csv('./Data/lahman_1871-2023_csv/Batting.csv') \n",
    "batting.head()"
   ]
  },
  {
   "cell_type": "code",
   "execution_count": 4,
   "id": "2efbf385-0519-4261-b995-9b7c6d791f8a",
   "metadata": {},
   "outputs": [
    {
     "data": {
      "text/html": [
       "<div><style>\n",
       ".dataframe > thead > tr,\n",
       ".dataframe > tbody > tr {\n",
       "  text-align: right;\n",
       "  white-space: pre-wrap;\n",
       "}\n",
       "</style>\n",
       "<small>shape: (156, 5)</small><table border=\"1\" class=\"dataframe\"><thead><tr><th>yearID</th><th>lgID</th><th>total_runs</th><th>total_ipouts</th><th>league_ERA</th></tr><tr><td>i64</td><td>str</td><td>i64</td><td>i64</td><td>f64</td></tr></thead><tbody><tr><td>1946</td><td>&quot;AL&quot;</td><td>5037</td><td>33186</td><td>4.098084</td></tr><tr><td>1946</td><td>&quot;NL&quot;</td><td>4918</td><td>33254</td><td>3.993084</td></tr><tr><td>1947</td><td>&quot;AL&quot;</td><td>5161</td><td>33228</td><td>4.193662</td></tr><tr><td>1947</td><td>&quot;NL&quot;</td><td>5669</td><td>32902</td><td>4.652088</td></tr><tr><td>1948</td><td>&quot;NL&quot;</td><td>5474</td><td>32867</td><td>4.496851</td></tr><tr><td>&hellip;</td><td>&hellip;</td><td>&hellip;</td><td>&hellip;</td><td>&hellip;</td></tr><tr><td>2021</td><td>&quot;AL&quot;</td><td>11141</td><td>64048</td><td>4.696587</td></tr><tr><td>2022</td><td>&quot;AL&quot;</td><td>10215</td><td>64676</td><td>4.26441</td></tr><tr><td>2022</td><td>&quot;NL&quot;</td><td>10602</td><td>64550</td><td>4.434609</td></tr><tr><td>2023</td><td>&quot;NL&quot;</td><td>11322</td><td>64529</td><td>4.737312</td></tr><tr><td>2023</td><td>&quot;AL&quot;</td><td>11110</td><td>64733</td><td>4.633958</td></tr></tbody></table></div>"
      ],
      "text/plain": [
       "shape: (156, 5)\n",
       "┌────────┬──────┬────────────┬──────────────┬────────────┐\n",
       "│ yearID ┆ lgID ┆ total_runs ┆ total_ipouts ┆ league_ERA │\n",
       "│ ---    ┆ ---  ┆ ---        ┆ ---          ┆ ---        │\n",
       "│ i64    ┆ str  ┆ i64        ┆ i64          ┆ f64        │\n",
       "╞════════╪══════╪════════════╪══════════════╪════════════╡\n",
       "│ 1946   ┆ AL   ┆ 5037       ┆ 33186        ┆ 4.098084   │\n",
       "│ 1946   ┆ NL   ┆ 4918       ┆ 33254        ┆ 3.993084   │\n",
       "│ 1947   ┆ AL   ┆ 5161       ┆ 33228        ┆ 4.193662   │\n",
       "│ 1947   ┆ NL   ┆ 5669       ┆ 32902        ┆ 4.652088   │\n",
       "│ 1948   ┆ NL   ┆ 5474       ┆ 32867        ┆ 4.496851   │\n",
       "│ …      ┆ …    ┆ …          ┆ …            ┆ …          │\n",
       "│ 2021   ┆ AL   ┆ 11141      ┆ 64048        ┆ 4.696587   │\n",
       "│ 2022   ┆ AL   ┆ 10215      ┆ 64676        ┆ 4.26441    │\n",
       "│ 2022   ┆ NL   ┆ 10602      ┆ 64550        ┆ 4.434609   │\n",
       "│ 2023   ┆ NL   ┆ 11322      ┆ 64529        ┆ 4.737312   │\n",
       "│ 2023   ┆ AL   ┆ 11110      ┆ 64733        ┆ 4.633958   │\n",
       "└────────┴──────┴────────────┴──────────────┴────────────┘"
      ]
     },
     "execution_count": 4,
     "metadata": {},
     "output_type": "execute_result"
    }
   ],
   "source": [
    "ERA = (\n",
    "    pitching\n",
    "    .select(pl.col('IPouts'), pl.col('yearID'), pl.col('R'), pl.col('lgID'))\n",
    "    .filter(pl.col('yearID') >= 1946)\n",
    "    .group_by(pl.col('yearID'), pl.col('lgID'))\n",
    "    .agg(\n",
    "        pl.col('R').sum().alias('total_runs'),\n",
    "        pl.col('IPouts').sum().alias('total_ipouts')\n",
    "    )\n",
    "    .with_columns(\n",
    "        ((pl.col('total_runs') / pl.col('total_ipouts')) * 27).alias('league_ERA')\n",
    "    )\n",
    "    .sort(pl.col('yearID'))\n",
    ")\n",
    "ERA"
   ]
  },
  {
   "cell_type": "code",
   "execution_count": 5,
   "id": "b1658be2-d2c1-408f-bcb8-9dd7c36b4cd3",
   "metadata": {},
   "outputs": [
    {
     "data": {
      "text/html": [
       "<div><style>\n",
       ".dataframe > thead > tr,\n",
       ".dataframe > tbody > tr {\n",
       "  text-align: right;\n",
       "  white-space: pre-wrap;\n",
       "}\n",
       "</style>\n",
       "<small>shape: (156, 6)</small><table border=\"1\" class=\"dataframe\"><thead><tr><th>yearID</th><th>lgID</th><th>total_runs</th><th>total_ipouts</th><th>league_ERA</th><th>DH_Rule_Applied</th></tr><tr><td>i64</td><td>str</td><td>i64</td><td>i64</td><td>f64</td><td>str</td></tr></thead><tbody><tr><td>1946</td><td>&quot;AL&quot;</td><td>5037</td><td>33186</td><td>4.098084</td><td>&quot;No&quot;</td></tr><tr><td>1946</td><td>&quot;NL&quot;</td><td>4918</td><td>33254</td><td>3.993084</td><td>&quot;No&quot;</td></tr><tr><td>1947</td><td>&quot;AL&quot;</td><td>5161</td><td>33228</td><td>4.193662</td><td>&quot;No&quot;</td></tr><tr><td>1947</td><td>&quot;NL&quot;</td><td>5669</td><td>32902</td><td>4.652088</td><td>&quot;No&quot;</td></tr><tr><td>1948</td><td>&quot;NL&quot;</td><td>5474</td><td>32867</td><td>4.496851</td><td>&quot;No&quot;</td></tr><tr><td>&hellip;</td><td>&hellip;</td><td>&hellip;</td><td>&hellip;</td><td>&hellip;</td><td>&hellip;</td></tr><tr><td>2021</td><td>&quot;AL&quot;</td><td>11141</td><td>64048</td><td>4.696587</td><td>&quot;Yes&quot;</td></tr><tr><td>2022</td><td>&quot;AL&quot;</td><td>10215</td><td>64676</td><td>4.26441</td><td>&quot;Yes&quot;</td></tr><tr><td>2022</td><td>&quot;NL&quot;</td><td>10602</td><td>64550</td><td>4.434609</td><td>&quot;Yes&quot;</td></tr><tr><td>2023</td><td>&quot;NL&quot;</td><td>11322</td><td>64529</td><td>4.737312</td><td>&quot;Yes&quot;</td></tr><tr><td>2023</td><td>&quot;AL&quot;</td><td>11110</td><td>64733</td><td>4.633958</td><td>&quot;Yes&quot;</td></tr></tbody></table></div>"
      ],
      "text/plain": [
       "shape: (156, 6)\n",
       "┌────────┬──────┬────────────┬──────────────┬────────────┬─────────────────┐\n",
       "│ yearID ┆ lgID ┆ total_runs ┆ total_ipouts ┆ league_ERA ┆ DH_Rule_Applied │\n",
       "│ ---    ┆ ---  ┆ ---        ┆ ---          ┆ ---        ┆ ---             │\n",
       "│ i64    ┆ str  ┆ i64        ┆ i64          ┆ f64        ┆ str             │\n",
       "╞════════╪══════╪════════════╪══════════════╪════════════╪═════════════════╡\n",
       "│ 1946   ┆ AL   ┆ 5037       ┆ 33186        ┆ 4.098084   ┆ No              │\n",
       "│ 1946   ┆ NL   ┆ 4918       ┆ 33254        ┆ 3.993084   ┆ No              │\n",
       "│ 1947   ┆ AL   ┆ 5161       ┆ 33228        ┆ 4.193662   ┆ No              │\n",
       "│ 1947   ┆ NL   ┆ 5669       ┆ 32902        ┆ 4.652088   ┆ No              │\n",
       "│ 1948   ┆ NL   ┆ 5474       ┆ 32867        ┆ 4.496851   ┆ No              │\n",
       "│ …      ┆ …    ┆ …          ┆ …            ┆ …          ┆ …               │\n",
       "│ 2021   ┆ AL   ┆ 11141      ┆ 64048        ┆ 4.696587   ┆ Yes             │\n",
       "│ 2022   ┆ AL   ┆ 10215      ┆ 64676        ┆ 4.26441    ┆ Yes             │\n",
       "│ 2022   ┆ NL   ┆ 10602      ┆ 64550        ┆ 4.434609   ┆ Yes             │\n",
       "│ 2023   ┆ NL   ┆ 11322      ┆ 64529        ┆ 4.737312   ┆ Yes             │\n",
       "│ 2023   ┆ AL   ┆ 11110      ┆ 64733        ┆ 4.633958   ┆ Yes             │\n",
       "└────────┴──────┴────────────┴──────────────┴────────────┴─────────────────┘"
      ]
     },
     "execution_count": 5,
     "metadata": {},
     "output_type": "execute_result"
    }
   ],
   "source": [
    "ERA_with_DH_Rule = ERA.with_columns(\n",
    "    pl.when((pl.col('yearID') >= 1973) & (pl.col('lgID') == 'AL'))\n",
    "    .then(pl.lit(\"Yes\"))\n",
    "    .when(((pl.col('yearID') == 2020) | (pl.col('yearID') >= 2022)) & (pl.col('lgID') == 'NL'))\n",
    "    .then(pl.lit(\"Yes\"))\n",
    "    .otherwise(pl.lit(\"No\"))\n",
    "    .alias(\"DH_Rule_Applied\")\n",
    ")\n",
    "ERA_with_DH_Rule"
   ]
  },
  {
   "cell_type": "code",
   "execution_count": 6,
   "id": "b955ac07-be27-4f6f-8ea4-94e6a6073b7b",
   "metadata": {},
   "outputs": [],
   "source": [
    "ERA_with_DH_Rule.write_csv(\"ERA_with_DH_Rule.csv\")"
   ]
  },
  {
   "cell_type": "code",
   "execution_count": 7,
   "id": "e28fcbe1-c095-4a29-ab8b-bb346f04a77e",
   "metadata": {},
   "outputs": [
    {
     "data": {
      "text/html": [
       "<div><style>\n",
       ".dataframe > thead > tr,\n",
       ".dataframe > tbody > tr {\n",
       "  text-align: right;\n",
       "  white-space: pre-wrap;\n",
       "}\n",
       "</style>\n",
       "<small>shape: (156, 8)</small><table border=\"1\" class=\"dataframe\"><thead><tr><th>yearID</th><th>lgID</th><th>total_1B</th><th>total_2B</th><th>total_3B</th><th>total_HR</th><th>total_AB</th><th>SLG</th></tr><tr><td>i64</td><td>str</td><td>i64</td><td>i64</td><td>i64</td><td>i64</td><td>i64</td><td>f64</td></tr></thead><tbody><tr><td>1946</td><td>&quot;AL&quot;</td><td>7912</td><td>1827</td><td>401</td><td>653</td><td>42239</td><td>0.364142</td></tr><tr><td>1946</td><td>&quot;NL&quot;</td><td>8066</td><td>1752</td><td>382</td><td>562</td><td>42094</td><td>0.35549</td></tr><tr><td>1947</td><td>&quot;AL&quot;</td><td>7940</td><td>1708</td><td>412</td><td>679</td><td>42002</td><td>0.364459</td></tr><tr><td>1947</td><td>&quot;NL&quot;</td><td>8126</td><td>1860</td><td>392</td><td>886</td><td>42434</td><td>0.390394</td></tr><tr><td>1948</td><td>&quot;AL&quot;</td><td>8206</td><td>1846</td><td>450</td><td>710</td><td>42155</td><td>0.381639</td></tr><tr><td>&hellip;</td><td>&hellip;</td><td>&hellip;</td><td>&hellip;</td><td>&hellip;</td><td>&hellip;</td><td>&hellip;</td><td>&hellip;</td></tr><tr><td>2021</td><td>&quot;AL&quot;</td><td>12630</td><td>3956</td><td>317</td><td>3059</td><td>81337</td><td>0.414682</td></tr><tr><td>2022</td><td>&quot;AL&quot;</td><td>13031</td><td>3956</td><td>295</td><td>2557</td><td>81816</td><td>0.391806</td></tr><tr><td>2022</td><td>&quot;NL&quot;</td><td>12846</td><td>3984</td><td>348</td><td>2658</td><td>81649</td><td>0.397923</td></tr><tr><td>2023</td><td>&quot;AL&quot;</td><td>12917</td><td>4130</td><td>342</td><td>2925</td><td>82324</td><td>0.411824</td></tr><tr><td>2023</td><td>&quot;NL&quot;</td><td>13114</td><td>4098</td><td>370</td><td>2943</td><td>82094</td><td>0.416498</td></tr></tbody></table></div>"
      ],
      "text/plain": [
       "shape: (156, 8)\n",
       "┌────────┬──────┬──────────┬──────────┬──────────┬──────────┬──────────┬──────────┐\n",
       "│ yearID ┆ lgID ┆ total_1B ┆ total_2B ┆ total_3B ┆ total_HR ┆ total_AB ┆ SLG      │\n",
       "│ ---    ┆ ---  ┆ ---      ┆ ---      ┆ ---      ┆ ---      ┆ ---      ┆ ---      │\n",
       "│ i64    ┆ str  ┆ i64      ┆ i64      ┆ i64      ┆ i64      ┆ i64      ┆ f64      │\n",
       "╞════════╪══════╪══════════╪══════════╪══════════╪══════════╪══════════╪══════════╡\n",
       "│ 1946   ┆ AL   ┆ 7912     ┆ 1827     ┆ 401      ┆ 653      ┆ 42239    ┆ 0.364142 │\n",
       "│ 1946   ┆ NL   ┆ 8066     ┆ 1752     ┆ 382      ┆ 562      ┆ 42094    ┆ 0.35549  │\n",
       "│ 1947   ┆ AL   ┆ 7940     ┆ 1708     ┆ 412      ┆ 679      ┆ 42002    ┆ 0.364459 │\n",
       "│ 1947   ┆ NL   ┆ 8126     ┆ 1860     ┆ 392      ┆ 886      ┆ 42434    ┆ 0.390394 │\n",
       "│ 1948   ┆ AL   ┆ 8206     ┆ 1846     ┆ 450      ┆ 710      ┆ 42155    ┆ 0.381639 │\n",
       "│ …      ┆ …    ┆ …        ┆ …        ┆ …        ┆ …        ┆ …        ┆ …        │\n",
       "│ 2021   ┆ AL   ┆ 12630    ┆ 3956     ┆ 317      ┆ 3059     ┆ 81337    ┆ 0.414682 │\n",
       "│ 2022   ┆ AL   ┆ 13031    ┆ 3956     ┆ 295      ┆ 2557     ┆ 81816    ┆ 0.391806 │\n",
       "│ 2022   ┆ NL   ┆ 12846    ┆ 3984     ┆ 348      ┆ 2658     ┆ 81649    ┆ 0.397923 │\n",
       "│ 2023   ┆ AL   ┆ 12917    ┆ 4130     ┆ 342      ┆ 2925     ┆ 82324    ┆ 0.411824 │\n",
       "│ 2023   ┆ NL   ┆ 13114    ┆ 4098     ┆ 370      ┆ 2943     ┆ 82094    ┆ 0.416498 │\n",
       "└────────┴──────┴──────────┴──────────┴──────────┴──────────┴──────────┴──────────┘"
      ]
     },
     "execution_count": 7,
     "metadata": {},
     "output_type": "execute_result"
    }
   ],
   "source": [
    "slugging = (\n",
    "    batting\n",
    "    .select(pl.col('yearID'),pl.col('lgID'),(pl.col('H') - pl.col('2B') - pl.col('3B') - pl.col('HR')).alias('1B'),pl.col('2B'),pl.col('3B'),pl.col('HR'),pl.col('AB'))\n",
    "    .filter(pl.col('yearID') >= 1946)\n",
    "    .group_by(pl.col('yearID'), pl.col('lgID'))\n",
    "    .agg(\n",
    "        pl.col('1B').sum().alias('total_1B'),\n",
    "        pl.col('2B').sum().alias('total_2B'),\n",
    "        pl.col('3B').sum().alias('total_3B'),\n",
    "        pl.col('HR').sum().alias('total_HR'),\n",
    "        pl.col('AB').sum().alias('total_AB'),\n",
    "    )\n",
    "    .with_columns(\n",
    "        ((pl.col('total_1B') + 2 * pl.col('total_2B') + 3 * pl.col('total_3B') + 4 * pl.col('total_HR')) / pl.col('total_AB')).alias('SLG')\n",
    "    )\n",
    "    .sort(pl.col('yearID'))\n",
    ")\n",
    "slugging"
   ]
  },
  {
   "cell_type": "code",
   "execution_count": 8,
   "id": "8cf0db43-a3ed-46aa-ae91-1a4c1593b3dd",
   "metadata": {},
   "outputs": [
    {
     "data": {
      "text/html": [
       "<div><style>\n",
       ".dataframe > thead > tr,\n",
       ".dataframe > tbody > tr {\n",
       "  text-align: right;\n",
       "  white-space: pre-wrap;\n",
       "}\n",
       "</style>\n",
       "<small>shape: (156, 9)</small><table border=\"1\" class=\"dataframe\"><thead><tr><th>yearID</th><th>lgID</th><th>total_1B</th><th>total_2B</th><th>total_3B</th><th>total_HR</th><th>total_AB</th><th>SLG</th><th>DH_Rule_Applied</th></tr><tr><td>i64</td><td>str</td><td>i64</td><td>i64</td><td>i64</td><td>i64</td><td>i64</td><td>f64</td><td>str</td></tr></thead><tbody><tr><td>1946</td><td>&quot;AL&quot;</td><td>7912</td><td>1827</td><td>401</td><td>653</td><td>42239</td><td>0.364142</td><td>&quot;No&quot;</td></tr><tr><td>1946</td><td>&quot;NL&quot;</td><td>8066</td><td>1752</td><td>382</td><td>562</td><td>42094</td><td>0.35549</td><td>&quot;No&quot;</td></tr><tr><td>1947</td><td>&quot;AL&quot;</td><td>7940</td><td>1708</td><td>412</td><td>679</td><td>42002</td><td>0.364459</td><td>&quot;No&quot;</td></tr><tr><td>1947</td><td>&quot;NL&quot;</td><td>8126</td><td>1860</td><td>392</td><td>886</td><td>42434</td><td>0.390394</td><td>&quot;No&quot;</td></tr><tr><td>1948</td><td>&quot;AL&quot;</td><td>8206</td><td>1846</td><td>450</td><td>710</td><td>42155</td><td>0.381639</td><td>&quot;No&quot;</td></tr><tr><td>&hellip;</td><td>&hellip;</td><td>&hellip;</td><td>&hellip;</td><td>&hellip;</td><td>&hellip;</td><td>&hellip;</td><td>&hellip;</td><td>&hellip;</td></tr><tr><td>2021</td><td>&quot;AL&quot;</td><td>12630</td><td>3956</td><td>317</td><td>3059</td><td>81337</td><td>0.414682</td><td>&quot;Yes&quot;</td></tr><tr><td>2022</td><td>&quot;AL&quot;</td><td>13031</td><td>3956</td><td>295</td><td>2557</td><td>81816</td><td>0.391806</td><td>&quot;Yes&quot;</td></tr><tr><td>2022</td><td>&quot;NL&quot;</td><td>12846</td><td>3984</td><td>348</td><td>2658</td><td>81649</td><td>0.397923</td><td>&quot;Yes&quot;</td></tr><tr><td>2023</td><td>&quot;AL&quot;</td><td>12917</td><td>4130</td><td>342</td><td>2925</td><td>82324</td><td>0.411824</td><td>&quot;Yes&quot;</td></tr><tr><td>2023</td><td>&quot;NL&quot;</td><td>13114</td><td>4098</td><td>370</td><td>2943</td><td>82094</td><td>0.416498</td><td>&quot;Yes&quot;</td></tr></tbody></table></div>"
      ],
      "text/plain": [
       "shape: (156, 9)\n",
       "┌────────┬──────┬──────────┬──────────┬───┬──────────┬──────────┬──────────┬─────────────────┐\n",
       "│ yearID ┆ lgID ┆ total_1B ┆ total_2B ┆ … ┆ total_HR ┆ total_AB ┆ SLG      ┆ DH_Rule_Applied │\n",
       "│ ---    ┆ ---  ┆ ---      ┆ ---      ┆   ┆ ---      ┆ ---      ┆ ---      ┆ ---             │\n",
       "│ i64    ┆ str  ┆ i64      ┆ i64      ┆   ┆ i64      ┆ i64      ┆ f64      ┆ str             │\n",
       "╞════════╪══════╪══════════╪══════════╪═══╪══════════╪══════════╪══════════╪═════════════════╡\n",
       "│ 1946   ┆ AL   ┆ 7912     ┆ 1827     ┆ … ┆ 653      ┆ 42239    ┆ 0.364142 ┆ No              │\n",
       "│ 1946   ┆ NL   ┆ 8066     ┆ 1752     ┆ … ┆ 562      ┆ 42094    ┆ 0.35549  ┆ No              │\n",
       "│ 1947   ┆ AL   ┆ 7940     ┆ 1708     ┆ … ┆ 679      ┆ 42002    ┆ 0.364459 ┆ No              │\n",
       "│ 1947   ┆ NL   ┆ 8126     ┆ 1860     ┆ … ┆ 886      ┆ 42434    ┆ 0.390394 ┆ No              │\n",
       "│ 1948   ┆ AL   ┆ 8206     ┆ 1846     ┆ … ┆ 710      ┆ 42155    ┆ 0.381639 ┆ No              │\n",
       "│ …      ┆ …    ┆ …        ┆ …        ┆ … ┆ …        ┆ …        ┆ …        ┆ …               │\n",
       "│ 2021   ┆ AL   ┆ 12630    ┆ 3956     ┆ … ┆ 3059     ┆ 81337    ┆ 0.414682 ┆ Yes             │\n",
       "│ 2022   ┆ AL   ┆ 13031    ┆ 3956     ┆ … ┆ 2557     ┆ 81816    ┆ 0.391806 ┆ Yes             │\n",
       "│ 2022   ┆ NL   ┆ 12846    ┆ 3984     ┆ … ┆ 2658     ┆ 81649    ┆ 0.397923 ┆ Yes             │\n",
       "│ 2023   ┆ AL   ┆ 12917    ┆ 4130     ┆ … ┆ 2925     ┆ 82324    ┆ 0.411824 ┆ Yes             │\n",
       "│ 2023   ┆ NL   ┆ 13114    ┆ 4098     ┆ … ┆ 2943     ┆ 82094    ┆ 0.416498 ┆ Yes             │\n",
       "└────────┴──────┴──────────┴──────────┴───┴──────────┴──────────┴──────────┴─────────────────┘"
      ]
     },
     "execution_count": 8,
     "metadata": {},
     "output_type": "execute_result"
    }
   ],
   "source": [
    "slugging_with_DH_Rule = slugging.with_columns(\n",
    "    pl.when((pl.col('yearID') >= 1973) & (pl.col('lgID') == 'AL'))\n",
    "    .then(pl.lit(\"Yes\"))\n",
    "    .when(((pl.col('yearID') == 2020) | (pl.col('yearID') >= 2022)) & (pl.col('lgID') == 'NL'))\n",
    "    .then(pl.lit(\"Yes\"))\n",
    "    .otherwise(pl.lit(\"No\"))\n",
    "    .alias(\"DH_Rule_Applied\")\n",
    ") \n",
    "slugging_with_DH_Rule"
   ]
  },
  {
   "cell_type": "code",
   "execution_count": 9,
   "id": "eb65400d-1e69-4df1-90cc-c8485b2950be",
   "metadata": {},
   "outputs": [],
   "source": [
    "slugging_with_DH_Rule.write_csv(\"slugging_with_DH_Rule.csv\")"
   ]
  },
  {
   "cell_type": "code",
   "execution_count": 32,
   "id": "cd1a3934-58fb-41ab-94a3-4ab750650042",
   "metadata": {},
   "outputs": [
    {
     "name": "stderr",
     "output_type": "stream",
     "text": [
      "C:\\Users\\su6123ck\\AppData\\Local\\Temp\\ipykernel_13928\\2397643708.py:2: DeprecationWarning: The argument `columns` for `DataFrame.pivot` is deprecated. It has been renamed to `on`.\n"
     ]
    },
    {
     "data": {
      "text/html": [
       "<div><style>\n",
       ".dataframe > thead > tr,\n",
       ".dataframe > tbody > tr {\n",
       "  text-align: right;\n",
       "  white-space: pre-wrap;\n",
       "}\n",
       "</style>\n",
       "<small>shape: (234, 3)</small><table border=\"1\" class=\"dataframe\"><thead><tr><th>yearID</th><th>League</th><th>League ERA</th></tr><tr><td>i64</td><td>str</td><td>f64</td></tr></thead><tbody><tr><td>1946</td><td>&quot;AL&quot;</td><td>4.098084</td></tr><tr><td>1947</td><td>&quot;AL&quot;</td><td>4.193662</td></tr><tr><td>1948</td><td>&quot;AL&quot;</td><td>4.786844</td></tr><tr><td>1949</td><td>&quot;AL&quot;</td><td>4.751302</td></tr><tr><td>1950</td><td>&quot;AL&quot;</td><td>5.133358</td></tr><tr><td>&hellip;</td><td>&hellip;</td><td>&hellip;</td></tr><tr><td>2019</td><td>&quot;AL-NL&quot;</td><td>0.245273</td></tr><tr><td>2020</td><td>&quot;AL-NL&quot;</td><td>-0.086749</td></tr><tr><td>2021</td><td>&quot;AL-NL&quot;</td><td>0.096637</td></tr><tr><td>2022</td><td>&quot;AL-NL&quot;</td><td>-0.170199</td></tr><tr><td>2023</td><td>&quot;AL-NL&quot;</td><td>-0.103354</td></tr></tbody></table></div>"
      ],
      "text/plain": [
       "shape: (234, 3)\n",
       "┌────────┬────────┬────────────┐\n",
       "│ yearID ┆ League ┆ League ERA │\n",
       "│ ---    ┆ ---    ┆ ---        │\n",
       "│ i64    ┆ str    ┆ f64        │\n",
       "╞════════╪════════╪════════════╡\n",
       "│ 1946   ┆ AL     ┆ 4.098084   │\n",
       "│ 1947   ┆ AL     ┆ 4.193662   │\n",
       "│ 1948   ┆ AL     ┆ 4.786844   │\n",
       "│ 1949   ┆ AL     ┆ 4.751302   │\n",
       "│ 1950   ┆ AL     ┆ 5.133358   │\n",
       "│ …      ┆ …      ┆ …          │\n",
       "│ 2019   ┆ AL-NL  ┆ 0.245273   │\n",
       "│ 2020   ┆ AL-NL  ┆ -0.086749  │\n",
       "│ 2021   ┆ AL-NL  ┆ 0.096637   │\n",
       "│ 2022   ┆ AL-NL  ┆ -0.170199  │\n",
       "│ 2023   ┆ AL-NL  ┆ -0.103354  │\n",
       "└────────┴────────┴────────────┘"
      ]
     },
     "execution_count": 32,
     "metadata": {},
     "output_type": "execute_result"
    }
   ],
   "source": [
    "ERA_with_DH_Rule_mod = (ERA_with_DH_Rule\n",
    "                         .pivot(values='league_ERA', \n",
    "                                index='yearID', \n",
    "                                columns='lgID')\n",
    "                         .with_columns((pl.col('AL') - pl.col('NL')).alias('AL-NL'))\n",
    "                         .unpivot(['AL', 'NL', 'AL-NL'], \n",
    "                              index='yearID', \n",
    "                              variable_name='League', \n",
    "                              value_name='League ERA')\n",
    ")\n",
    "\n",
    "ERA_with_DH_Rule_mod"
   ]
  },
  {
   "cell_type": "code",
   "execution_count": 99,
   "id": "ffa0df5a-3416-4f35-97c9-c6b519892451",
   "metadata": {},
   "outputs": [],
   "source": [
    "from plotnine import ggplot, geom_line, aes, scale_color_manual, labs, scale_x_continuous, theme, element_blank, element_line, geom_vline, annotate, geom_hline\n",
    "\n",
    "ERA = (ggplot(data=ERA_with_DH_Rule_mod)\n",
    " + geom_line(aes(x=\"yearID\",                  \n",
    "                 y=\"League ERA\",\n",
    "                 color=\"League\"))\n",
    " + scale_color_manual(values={\"AL\": \"blue\", \"NL\": \"green\", \"AL-NL\": \"red\"})\n",
    " + labs(title=\"League ERA vs. Year\")\n",
    " + scale_x_continuous(breaks=range(1950, max(ERA_with_DH_Rule['yearID']) + 1, 10))\n",
    " + theme(\n",
    "     panel_grid_major=element_blank(),  \n",
    "     panel_grid_minor=element_blank(),  \n",
    "     panel_background=element_blank(),   \n",
    "     axis_line=element_line(color='black'), \n",
    "     axis_ticks=element_line(color='black')  \n",
    "   )\n",
    " + geom_vline(xintercept=1973, linetype='dashed', color='orange') \n",
    " + annotate('text', x=1948, y=min(ERA_with_DH_Rule_mod['League ERA']) + 1.5, \n",
    "            label='DH introduced to the AL in 1973', \n",
    "            color='black', \n",
    "            ha='left', \n",
    "            va='bottom') \n",
    "+ geom_hline(yintercept=0, linetype='dashed', color='black')\n",
    ")"
   ]
  },
  {
   "cell_type": "code",
   "execution_count": 100,
   "id": "9ae6bf60-2913-4702-a1b1-bb3adcff3003",
   "metadata": {},
   "outputs": [
    {
     "name": "stderr",
     "output_type": "stream",
     "text": [
      "C:\\Users\\su6123ck\\AppData\\Local\\anaconda3\\envs\\polars\\Lib\\site-packages\\plotnine\\ggplot.py:606: PlotnineWarning: Saving 10 x 4 in image.\n",
      "C:\\Users\\su6123ck\\AppData\\Local\\anaconda3\\envs\\polars\\Lib\\site-packages\\plotnine\\ggplot.py:607: PlotnineWarning: Filename: ./img/ERA_vs_year.png\n"
     ]
    }
   ],
   "source": [
    "from plotnine import ggsave\n",
    "ggsave(ERA, filename='./img/ERA_vs_year.png', height=4, width=10, units = 'in', dpi=72)"
   ]
  },
  {
   "cell_type": "code",
   "execution_count": 83,
   "id": "5fb1bc21-9c3b-421b-908a-94084dd23569",
   "metadata": {},
   "outputs": [
    {
     "name": "stderr",
     "output_type": "stream",
     "text": [
      "C:\\Users\\su6123ck\\AppData\\Local\\Temp\\ipykernel_13928\\1326008563.py:2: DeprecationWarning: The argument `columns` for `DataFrame.pivot` is deprecated. It has been renamed to `on`.\n"
     ]
    },
    {
     "data": {
      "text/html": [
       "<div><style>\n",
       ".dataframe > thead > tr,\n",
       ".dataframe > tbody > tr {\n",
       "  text-align: right;\n",
       "  white-space: pre-wrap;\n",
       "}\n",
       "</style>\n",
       "<small>shape: (234, 3)</small><table border=\"1\" class=\"dataframe\"><thead><tr><th>yearID</th><th>League</th><th>Slugging</th></tr><tr><td>i64</td><td>str</td><td>f64</td></tr></thead><tbody><tr><td>1946</td><td>&quot;AL&quot;</td><td>0.364142</td></tr><tr><td>1947</td><td>&quot;AL&quot;</td><td>0.364459</td></tr><tr><td>1948</td><td>&quot;AL&quot;</td><td>0.381639</td></tr><tr><td>1949</td><td>&quot;AL&quot;</td><td>0.378867</td></tr><tr><td>1950</td><td>&quot;AL&quot;</td><td>0.402481</td></tr><tr><td>&hellip;</td><td>&hellip;</td><td>&hellip;</td></tr><tr><td>2019</td><td>&quot;AL-NL&quot;</td><td>0.008193</td></tr><tr><td>2020</td><td>&quot;AL-NL&quot;</td><td>-0.006942</td></tr><tr><td>2021</td><td>&quot;AL-NL&quot;</td><td>0.007854</td></tr><tr><td>2022</td><td>&quot;AL-NL&quot;</td><td>-0.006117</td></tr><tr><td>2023</td><td>&quot;AL-NL&quot;</td><td>-0.004674</td></tr></tbody></table></div>"
      ],
      "text/plain": [
       "shape: (234, 3)\n",
       "┌────────┬────────┬───────────┐\n",
       "│ yearID ┆ League ┆ Slugging  │\n",
       "│ ---    ┆ ---    ┆ ---       │\n",
       "│ i64    ┆ str    ┆ f64       │\n",
       "╞════════╪════════╪═══════════╡\n",
       "│ 1946   ┆ AL     ┆ 0.364142  │\n",
       "│ 1947   ┆ AL     ┆ 0.364459  │\n",
       "│ 1948   ┆ AL     ┆ 0.381639  │\n",
       "│ 1949   ┆ AL     ┆ 0.378867  │\n",
       "│ 1950   ┆ AL     ┆ 0.402481  │\n",
       "│ …      ┆ …      ┆ …         │\n",
       "│ 2019   ┆ AL-NL  ┆ 0.008193  │\n",
       "│ 2020   ┆ AL-NL  ┆ -0.006942 │\n",
       "│ 2021   ┆ AL-NL  ┆ 0.007854  │\n",
       "│ 2022   ┆ AL-NL  ┆ -0.006117 │\n",
       "│ 2023   ┆ AL-NL  ┆ -0.004674 │\n",
       "└────────┴────────┴───────────┘"
      ]
     },
     "execution_count": 83,
     "metadata": {},
     "output_type": "execute_result"
    }
   ],
   "source": [
    "slugging_with_DH_Rule_mod = (slugging_with_DH_Rule\n",
    "                         .pivot(values='SLG', \n",
    "                                index='yearID', \n",
    "                                columns='lgID')\n",
    "                         .with_columns((pl.col('AL') - pl.col('NL')).alias('AL-NL'))\n",
    "                         .unpivot(['AL', 'NL', 'AL-NL'], \n",
    "                              index='yearID', \n",
    "                              variable_name='League', \n",
    "                              value_name='Slugging')\n",
    ")\n",
    "slugging_with_DH_Rule_mod"
   ]
  },
  {
   "cell_type": "code",
   "execution_count": 93,
   "id": "13ff0070-a6c7-4bac-b8c7-f42cb3648a69",
   "metadata": {},
   "outputs": [],
   "source": [
    "from plotnine import ggplot, geom_line, aes, scale_color_manual, labs, scale_x_continuous, theme, element_blank, element_line, geom_vline, annotate, geom_hline\n",
    "\n",
    "slugging = (ggplot(data=slugging_with_DH_Rule_mod)\n",
    " + geom_line(aes(x=\"yearID\",                  \n",
    "                 y=\"Slugging\",\n",
    "                 color=\"League\"))\n",
    " + scale_color_manual(values={\"AL\": \"blue\", \"NL\": \"green\", \"AL-NL\": \"red\"})\n",
    " + labs(title=\"Slugging vs. Year\")\n",
    " + scale_x_continuous(breaks=range(1950, max(ERA_with_DH_Rule['yearID']) + 1, 10))\n",
    " + theme(\n",
    "     panel_grid_major=element_blank(),  \n",
    "     panel_grid_minor=element_blank(),  \n",
    "     panel_background=element_blank(),   \n",
    "     axis_line=element_line(color='black'), \n",
    "     axis_ticks=element_line(color='black')  \n",
    "   )\n",
    " + geom_vline(xintercept=1973, linetype='dashed', color='orange') \n",
    " + annotate('text', x=1948, y=min(ERA_with_DH_Rule_mod['League ERA']) + 0.55, \n",
    "            label='DH introduced to the AL in 1973', \n",
    "            color='black', \n",
    "            ha='left', \n",
    "            va='bottom')  \n",
    " + geom_hline(yintercept=0, linetype='dashed', color='black')\n",
    ")"
   ]
  },
  {
   "cell_type": "code",
   "execution_count": 98,
   "id": "c20f522c-4e62-42cf-8b53-6207f3c9a1d9",
   "metadata": {},
   "outputs": [
    {
     "name": "stderr",
     "output_type": "stream",
     "text": [
      "C:\\Users\\su6123ck\\AppData\\Local\\anaconda3\\envs\\polars\\Lib\\site-packages\\plotnine\\ggplot.py:606: PlotnineWarning: Saving 10 x 4 in image.\n",
      "C:\\Users\\su6123ck\\AppData\\Local\\anaconda3\\envs\\polars\\Lib\\site-packages\\plotnine\\ggplot.py:607: PlotnineWarning: Filename: ./img/slugging_vs_year.png\n"
     ]
    }
   ],
   "source": [
    "from plotnine import ggsave\n",
    "ggsave(slugging, filename='./img/slugging_vs_year.png', height=4, width=10, units = 'in', dpi=72)"
   ]
  }
 ],
 "metadata": {
  "kernelspec": {
   "display_name": "Python 3 (ipykernel)",
   "language": "python",
   "name": "python3"
  },
  "language_info": {
   "codemirror_mode": {
    "name": "ipython",
    "version": 3
   },
   "file_extension": ".py",
   "mimetype": "text/x-python",
   "name": "python",
   "nbconvert_exporter": "python",
   "pygments_lexer": "ipython3",
   "version": "3.12.5"
  }
 },
 "nbformat": 4,
 "nbformat_minor": 5
}
