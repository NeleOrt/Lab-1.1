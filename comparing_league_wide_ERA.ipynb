{
 "cells": [
  {
   "cell_type": "code",
   "execution_count": 5,
   "id": "3b95be5c-b775-4b63-8743-d8e469fb1e4f",
   "metadata": {},
   "outputs": [],
   "source": [
    "import polars as pl"
   ]
  },
  {
   "cell_type": "code",
   "execution_count": 17,
   "id": "2974f263-853b-45b6-9192-695806f45517",
   "metadata": {},
   "outputs": [
    {
     "data": {
      "text/html": [
       "<div><style>\n",
       ".dataframe > thead > tr,\n",
       ".dataframe > tbody > tr {\n",
       "  text-align: right;\n",
       "  white-space: pre-wrap;\n",
       "}\n",
       "</style>\n",
       "<small>shape: (5, 30)</small><table border=\"1\" class=\"dataframe\"><thead><tr><th>playerID</th><th>yearID</th><th>stint</th><th>teamID</th><th>lgID</th><th>W</th><th>L</th><th>G</th><th>GS</th><th>CG</th><th>SHO</th><th>SV</th><th>IPouts</th><th>H</th><th>ER</th><th>HR</th><th>BB</th><th>SO</th><th>BAOpp</th><th>ERA</th><th>IBB</th><th>WP</th><th>HBP</th><th>BK</th><th>BFP</th><th>GF</th><th>R</th><th>SH</th><th>SF</th><th>GIDP</th></tr><tr><td>str</td><td>i64</td><td>i64</td><td>str</td><td>str</td><td>i64</td><td>i64</td><td>i64</td><td>i64</td><td>i64</td><td>i64</td><td>i64</td><td>i64</td><td>i64</td><td>i64</td><td>i64</td><td>i64</td><td>i64</td><td>f64</td><td>f64</td><td>i64</td><td>i64</td><td>i64</td><td>i64</td><td>i64</td><td>i64</td><td>i64</td><td>i64</td><td>i64</td><td>i64</td></tr></thead><tbody><tr><td>&quot;aardsda01&quot;</td><td>2004</td><td>1</td><td>&quot;SFN&quot;</td><td>&quot;NL&quot;</td><td>1</td><td>0</td><td>11</td><td>0</td><td>0</td><td>0</td><td>0</td><td>32</td><td>20</td><td>8</td><td>1</td><td>10</td><td>5</td><td>0.417</td><td>6.75</td><td>0</td><td>0</td><td>2</td><td>0</td><td>61</td><td>5</td><td>8</td><td>0</td><td>1</td><td>1</td></tr><tr><td>&quot;aardsda01&quot;</td><td>2006</td><td>1</td><td>&quot;CHN&quot;</td><td>&quot;NL&quot;</td><td>3</td><td>0</td><td>45</td><td>0</td><td>0</td><td>0</td><td>0</td><td>159</td><td>41</td><td>24</td><td>9</td><td>28</td><td>49</td><td>0.214</td><td>4.08</td><td>0</td><td>1</td><td>1</td><td>0</td><td>225</td><td>9</td><td>25</td><td>1</td><td>3</td><td>2</td></tr><tr><td>&quot;aardsda01&quot;</td><td>2007</td><td>1</td><td>&quot;CHA&quot;</td><td>&quot;AL&quot;</td><td>2</td><td>1</td><td>25</td><td>0</td><td>0</td><td>0</td><td>0</td><td>97</td><td>39</td><td>23</td><td>4</td><td>17</td><td>36</td><td>0.3</td><td>6.4</td><td>3</td><td>2</td><td>1</td><td>0</td><td>151</td><td>7</td><td>24</td><td>2</td><td>1</td><td>1</td></tr><tr><td>&quot;aardsda01&quot;</td><td>2008</td><td>1</td><td>&quot;BOS&quot;</td><td>&quot;AL&quot;</td><td>4</td><td>2</td><td>47</td><td>0</td><td>0</td><td>0</td><td>0</td><td>146</td><td>49</td><td>30</td><td>4</td><td>35</td><td>49</td><td>0.268</td><td>5.55</td><td>2</td><td>3</td><td>5</td><td>0</td><td>228</td><td>7</td><td>32</td><td>3</td><td>2</td><td>4</td></tr><tr><td>&quot;aardsda01&quot;</td><td>2009</td><td>1</td><td>&quot;SEA&quot;</td><td>&quot;AL&quot;</td><td>3</td><td>6</td><td>73</td><td>0</td><td>0</td><td>0</td><td>38</td><td>214</td><td>49</td><td>20</td><td>4</td><td>34</td><td>80</td><td>0.19</td><td>2.52</td><td>3</td><td>2</td><td>0</td><td>0</td><td>296</td><td>53</td><td>23</td><td>2</td><td>1</td><td>2</td></tr></tbody></table></div>"
      ],
      "text/plain": [
       "shape: (5, 30)\n",
       "┌───────────┬────────┬───────┬────────┬───┬─────┬─────┬─────┬──────┐\n",
       "│ playerID  ┆ yearID ┆ stint ┆ teamID ┆ … ┆ R   ┆ SH  ┆ SF  ┆ GIDP │\n",
       "│ ---       ┆ ---    ┆ ---   ┆ ---    ┆   ┆ --- ┆ --- ┆ --- ┆ ---  │\n",
       "│ str       ┆ i64    ┆ i64   ┆ str    ┆   ┆ i64 ┆ i64 ┆ i64 ┆ i64  │\n",
       "╞═══════════╪════════╪═══════╪════════╪═══╪═════╪═════╪═════╪══════╡\n",
       "│ aardsda01 ┆ 2004   ┆ 1     ┆ SFN    ┆ … ┆ 8   ┆ 0   ┆ 1   ┆ 1    │\n",
       "│ aardsda01 ┆ 2006   ┆ 1     ┆ CHN    ┆ … ┆ 25  ┆ 1   ┆ 3   ┆ 2    │\n",
       "│ aardsda01 ┆ 2007   ┆ 1     ┆ CHA    ┆ … ┆ 24  ┆ 2   ┆ 1   ┆ 1    │\n",
       "│ aardsda01 ┆ 2008   ┆ 1     ┆ BOS    ┆ … ┆ 32  ┆ 3   ┆ 2   ┆ 4    │\n",
       "│ aardsda01 ┆ 2009   ┆ 1     ┆ SEA    ┆ … ┆ 23  ┆ 2   ┆ 1   ┆ 2    │\n",
       "└───────────┴────────┴───────┴────────┴───┴─────┴─────┴─────┴──────┘"
      ]
     },
     "execution_count": 17,
     "metadata": {},
     "output_type": "execute_result"
    }
   ],
   "source": [
    "pitching = pl.read_csv('./Data/lahman_1871-2023_csv/Pitching.csv') \n",
    "pitching.head()"
   ]
  },
  {
   "cell_type": "code",
   "execution_count": 18,
   "id": "ca71cf14-b3f0-4d91-8198-636e55f01019",
   "metadata": {},
   "outputs": [
    {
     "data": {
      "text/html": [
       "<div><style>\n",
       ".dataframe > thead > tr,\n",
       ".dataframe > tbody > tr {\n",
       "  text-align: right;\n",
       "  white-space: pre-wrap;\n",
       "}\n",
       "</style>\n",
       "<small>shape: (5, 24)</small><table border=\"1\" class=\"dataframe\"><thead><tr><th>playerID</th><th>yearID</th><th>stint</th><th>teamID</th><th>lgID</th><th>G</th><th>G_batting</th><th>AB</th><th>R</th><th>H</th><th>2B</th><th>3B</th><th>HR</th><th>RBI</th><th>SB</th><th>CS</th><th>BB</th><th>SO</th><th>IBB</th><th>HBP</th><th>SH</th><th>SF</th><th>GIDP</th><th>G_old</th></tr><tr><td>str</td><td>i64</td><td>i64</td><td>str</td><td>str</td><td>i64</td><td>i64</td><td>i64</td><td>i64</td><td>i64</td><td>i64</td><td>i64</td><td>i64</td><td>i64</td><td>i64</td><td>i64</td><td>i64</td><td>i64</td><td>i64</td><td>i64</td><td>i64</td><td>i64</td><td>i64</td><td>str</td></tr></thead><tbody><tr><td>&quot;aardsda01&quot;</td><td>2004</td><td>1</td><td>&quot;SFN&quot;</td><td>&quot;NL&quot;</td><td>11</td><td>null</td><td>0</td><td>0</td><td>0</td><td>0</td><td>0</td><td>0</td><td>0</td><td>0</td><td>0</td><td>0</td><td>0</td><td>0</td><td>0</td><td>0</td><td>0</td><td>0</td><td>null</td></tr><tr><td>&quot;aardsda01&quot;</td><td>2006</td><td>1</td><td>&quot;CHN&quot;</td><td>&quot;NL&quot;</td><td>45</td><td>null</td><td>2</td><td>0</td><td>0</td><td>0</td><td>0</td><td>0</td><td>0</td><td>0</td><td>0</td><td>0</td><td>0</td><td>0</td><td>0</td><td>1</td><td>0</td><td>0</td><td>null</td></tr><tr><td>&quot;aardsda01&quot;</td><td>2007</td><td>1</td><td>&quot;CHA&quot;</td><td>&quot;AL&quot;</td><td>25</td><td>null</td><td>0</td><td>0</td><td>0</td><td>0</td><td>0</td><td>0</td><td>0</td><td>0</td><td>0</td><td>0</td><td>0</td><td>0</td><td>0</td><td>0</td><td>0</td><td>0</td><td>null</td></tr><tr><td>&quot;aardsda01&quot;</td><td>2008</td><td>1</td><td>&quot;BOS&quot;</td><td>&quot;AL&quot;</td><td>47</td><td>null</td><td>1</td><td>0</td><td>0</td><td>0</td><td>0</td><td>0</td><td>0</td><td>0</td><td>0</td><td>0</td><td>1</td><td>0</td><td>0</td><td>0</td><td>0</td><td>0</td><td>null</td></tr><tr><td>&quot;aardsda01&quot;</td><td>2009</td><td>1</td><td>&quot;SEA&quot;</td><td>&quot;AL&quot;</td><td>73</td><td>null</td><td>0</td><td>0</td><td>0</td><td>0</td><td>0</td><td>0</td><td>0</td><td>0</td><td>0</td><td>0</td><td>0</td><td>0</td><td>0</td><td>0</td><td>0</td><td>0</td><td>null</td></tr></tbody></table></div>"
      ],
      "text/plain": [
       "shape: (5, 24)\n",
       "┌───────────┬────────┬───────┬────────┬───┬─────┬─────┬──────┬───────┐\n",
       "│ playerID  ┆ yearID ┆ stint ┆ teamID ┆ … ┆ SH  ┆ SF  ┆ GIDP ┆ G_old │\n",
       "│ ---       ┆ ---    ┆ ---   ┆ ---    ┆   ┆ --- ┆ --- ┆ ---  ┆ ---   │\n",
       "│ str       ┆ i64    ┆ i64   ┆ str    ┆   ┆ i64 ┆ i64 ┆ i64  ┆ str   │\n",
       "╞═══════════╪════════╪═══════╪════════╪═══╪═════╪═════╪══════╪═══════╡\n",
       "│ aardsda01 ┆ 2004   ┆ 1     ┆ SFN    ┆ … ┆ 0   ┆ 0   ┆ 0    ┆ null  │\n",
       "│ aardsda01 ┆ 2006   ┆ 1     ┆ CHN    ┆ … ┆ 1   ┆ 0   ┆ 0    ┆ null  │\n",
       "│ aardsda01 ┆ 2007   ┆ 1     ┆ CHA    ┆ … ┆ 0   ┆ 0   ┆ 0    ┆ null  │\n",
       "│ aardsda01 ┆ 2008   ┆ 1     ┆ BOS    ┆ … ┆ 0   ┆ 0   ┆ 0    ┆ null  │\n",
       "│ aardsda01 ┆ 2009   ┆ 1     ┆ SEA    ┆ … ┆ 0   ┆ 0   ┆ 0    ┆ null  │\n",
       "└───────────┴────────┴───────┴────────┴───┴─────┴─────┴──────┴───────┘"
      ]
     },
     "execution_count": 18,
     "metadata": {},
     "output_type": "execute_result"
    }
   ],
   "source": [
    "batting = pl.read_csv('./Data/lahman_1871-2023_csv/Batting.csv') \n",
    "batting.head()"
   ]
  },
  {
   "cell_type": "code",
   "execution_count": 32,
   "id": "2efbf385-0519-4261-b995-9b7c6d791f8a",
   "metadata": {},
   "outputs": [
    {
     "data": {
      "text/html": [
       "<div><style>\n",
       ".dataframe > thead > tr,\n",
       ".dataframe > tbody > tr {\n",
       "  text-align: right;\n",
       "  white-space: pre-wrap;\n",
       "}\n",
       "</style>\n",
       "<small>shape: (156, 5)</small><table border=\"1\" class=\"dataframe\"><thead><tr><th>yearID</th><th>lgID</th><th>total_runs</th><th>total_ipouts</th><th>era</th></tr><tr><td>i64</td><td>str</td><td>i64</td><td>i64</td><td>f64</td></tr></thead><tbody><tr><td>2014</td><td>&quot;NL&quot;</td><td>9709</td><td>65445</td><td>4.005547</td></tr><tr><td>1956</td><td>&quot;AL&quot;</td><td>5756</td><td>33095</td><td>4.695936</td></tr><tr><td>1979</td><td>&quot;NL&quot;</td><td>8186</td><td>52280</td><td>4.227659</td></tr><tr><td>1961</td><td>&quot;NL&quot;</td><td>5600</td><td>33080</td><td>4.570738</td></tr><tr><td>1970</td><td>&quot;AL&quot;</td><td>8109</td><td>52341</td><td>4.183011</td></tr><tr><td>&hellip;</td><td>&hellip;</td><td>&hellip;</td><td>&hellip;</td><td>&hellip;</td></tr><tr><td>2020</td><td>&quot;AL&quot;</td><td>4159</td><td>23338</td><td>4.811595</td></tr><tr><td>1968</td><td>&quot;NL&quot;</td><td>5577</td><td>44043</td><td>3.418909</td></tr><tr><td>1981</td><td>&quot;NL&quot;</td><td>5035</td><td>34906</td><td>3.894603</td></tr><tr><td>1947</td><td>&quot;NL&quot;</td><td>5669</td><td>32902</td><td>4.652088</td></tr><tr><td>1974</td><td>&quot;AL&quot;</td><td>7976</td><td>52346</td><td>4.114011</td></tr></tbody></table></div>"
      ],
      "text/plain": [
       "shape: (156, 5)\n",
       "┌────────┬──────┬────────────┬──────────────┬──────────┐\n",
       "│ yearID ┆ lgID ┆ total_runs ┆ total_ipouts ┆ era      │\n",
       "│ ---    ┆ ---  ┆ ---        ┆ ---          ┆ ---      │\n",
       "│ i64    ┆ str  ┆ i64        ┆ i64          ┆ f64      │\n",
       "╞════════╪══════╪════════════╪══════════════╪══════════╡\n",
       "│ 2014   ┆ NL   ┆ 9709       ┆ 65445        ┆ 4.005547 │\n",
       "│ 1956   ┆ AL   ┆ 5756       ┆ 33095        ┆ 4.695936 │\n",
       "│ 1979   ┆ NL   ┆ 8186       ┆ 52280        ┆ 4.227659 │\n",
       "│ 1961   ┆ NL   ┆ 5600       ┆ 33080        ┆ 4.570738 │\n",
       "│ 1970   ┆ AL   ┆ 8109       ┆ 52341        ┆ 4.183011 │\n",
       "│ …      ┆ …    ┆ …          ┆ …            ┆ …        │\n",
       "│ 2020   ┆ AL   ┆ 4159       ┆ 23338        ┆ 4.811595 │\n",
       "│ 1968   ┆ NL   ┆ 5577       ┆ 44043        ┆ 3.418909 │\n",
       "│ 1981   ┆ NL   ┆ 5035       ┆ 34906        ┆ 3.894603 │\n",
       "│ 1947   ┆ NL   ┆ 5669       ┆ 32902        ┆ 4.652088 │\n",
       "│ 1974   ┆ AL   ┆ 7976       ┆ 52346        ┆ 4.114011 │\n",
       "└────────┴──────┴────────────┴──────────────┴──────────┘"
      ]
     },
     "execution_count": 32,
     "metadata": {},
     "output_type": "execute_result"
    }
   ],
   "source": [
    "ERA = (\n",
    "    pitching\n",
    "    .select([pl.col('IPouts'), pl.col('yearID'), pl.col('R'), pl.col('lgID')])\n",
    "    .filter(pl.col('yearID') >= 1946)\n",
    "    .group_by(['yearID', 'lgID'])\n",
    "    .agg([\n",
    "        pl.col('R').sum().alias('total_runs'),\n",
    "        pl.col('IPouts').sum().alias('total_ipouts')\n",
    "    ])\n",
    "    .with_columns([\n",
    "        ((pl.col('total_runs') / pl.col('total_ipouts')) * 27).alias('era')\n",
    "    ])\n",
    ")\n",
    "ERA"
   ]
  },
  {
   "cell_type": "code",
   "execution_count": null,
   "id": "b1658be2-d2c1-408f-bcb8-9dd7c36b4cd3",
   "metadata": {},
   "outputs": [],
   "source": []
  },
  {
   "cell_type": "code",
   "execution_count": null,
   "id": "6fd52c33-3420-40b7-974f-81fcb8638c71",
   "metadata": {},
   "outputs": [],
   "source": []
  }
 ],
 "metadata": {
  "kernelspec": {
   "display_name": "Python 3 (ipykernel)",
   "language": "python",
   "name": "python3"
  },
  "language_info": {
   "codemirror_mode": {
    "name": "ipython",
    "version": 3
   },
   "file_extension": ".py",
   "mimetype": "text/x-python",
   "name": "python",
   "nbconvert_exporter": "python",
   "pygments_lexer": "ipython3",
   "version": "3.12.5"
  }
 },
 "nbformat": 4,
 "nbformat_minor": 5
}
